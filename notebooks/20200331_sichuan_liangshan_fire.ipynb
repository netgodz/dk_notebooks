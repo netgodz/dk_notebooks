{
 "cells": [
  {
   "cell_type": "markdown",
   "metadata": {},
   "source": [
    "# 四川凉山森林火灾"
   ]
  },
  {
   "cell_type": "code",
   "execution_count": 1,
   "metadata": {},
   "outputs": [],
   "source": [
    "# set up things\n",
    "%matplotlib inline\n",
    "%load_ext autoreload\n",
    "%autoreload 2"
   ]
  },
  {
   "cell_type": "code",
   "execution_count": 2,
   "metadata": {},
   "outputs": [],
   "source": [
    "import numpy as np\n",
    "import pandas as pd"
   ]
  },
  {
   "cell_type": "code",
   "execution_count": 3,
   "metadata": {},
   "outputs": [],
   "source": [
    "locations = {\"Name\":np.array([\"冕宁县健美乡\", \"木里县项脚乡\", \"冕宁县锦屏镇\", \"西昌市马道镇\", \"839005\"]),\n",
    "             \"Lon\":np.array([101.82, 101.32, 101.84, 102.23, 102.2681]),\n",
    "             \"Lat\":np.array([28.35, 27.91, 28.32, 27.82, 27.8492])}\n",
    "center = (locations['Lat'].mean(), locations['Lon'].mean())"
   ]
  },
  {
   "cell_type": "code",
   "execution_count": 4,
   "metadata": {},
   "outputs": [
    {
     "data": {
      "application/vnd.jupyter.widget-view+json": {
       "model_id": "92ebfef850ed4e49b499b1ff5c6f6cb3",
       "version_major": 2,
       "version_minor": 0
      },
      "text/plain": [
       "Map(center=[28.04984, 101.89562000000001], controls=(ZoomControl(options=['position', 'zoom_in_text', 'zoom_in…"
      ]
     },
     "metadata": {},
     "output_type": "display_data"
    }
   ],
   "source": [
    "from ipyleaflet import Map, Marker, MarkerCluster\n",
    "\n",
    "markers = []\n",
    "for lon,lat,id in zip(locations['Lon'], locations['Lat'], locations['Name']):\n",
    "    markers.append(Marker(location=(lat, lon), title=id, draggable=False))\n",
    "marker_cluster = MarkerCluster(markers=markers)\n",
    "    \n",
    "m = Map(center=center, zoom=8)\n",
    "m.add_layer(marker_cluster)\n",
    "m"
   ]
  },
  {
   "cell_type": "code",
   "execution_count": null,
   "metadata": {},
   "outputs": [],
   "source": []
  }
 ],
 "metadata": {
  "kernelspec": {
   "display_name": "Python 3",
   "language": "python",
   "name": "python3"
  },
  "language_info": {
   "codemirror_mode": {
    "name": "ipython",
    "version": 3
   },
   "file_extension": ".py",
   "mimetype": "text/x-python",
   "name": "python",
   "nbconvert_exporter": "python",
   "pygments_lexer": "ipython3",
   "version": "3.7.6"
  },
  "widgets": {
   "application/vnd.jupyter.widget-state+json": {
    "state": {
     "1310137f47c3488896c45d64d7a218ee": {
      "model_module": "@jupyter-widgets/base",
      "model_module_version": "1.2.0",
      "model_name": "LayoutModel",
      "state": {}
     },
     "1b204510caf9400091456991b4b55d1e": {
      "model_module": "jupyter-leaflet",
      "model_module_version": "^0.12.3",
      "model_name": "LeafletMarkerModel",
      "state": {
       "_model_module_version": "^0.12.3",
       "_view_module_version": "^0.12.3",
       "draggable": false,
       "location": [
        27.82,
        102.23
       ],
       "options": [
        "alt",
        "draggable",
        "keyboard",
        "rise_offset",
        "rise_on_hover",
        "rotation_angle",
        "rotation_origin",
        "title",
        "z_index_offset"
       ],
       "title": "西昌市马道镇"
      }
     },
     "2056d7f50dee41bcb8c5adc18d7558d8": {
      "model_module": "jupyter-leaflet",
      "model_module_version": "^0.12.3",
      "model_name": "LeafletMarkerModel",
      "state": {
       "_model_module_version": "^0.12.3",
       "_view_module_version": "^0.12.3",
       "draggable": false,
       "location": [
        28.35,
        101.82
       ],
       "options": [
        "alt",
        "draggable",
        "keyboard",
        "rise_offset",
        "rise_on_hover",
        "rotation_angle",
        "rotation_origin",
        "title",
        "z_index_offset"
       ],
       "title": "冕宁县健美乡"
      }
     },
     "38db808dcf3f4e0f8685a68d90dadd78": {
      "model_module": "jupyter-leaflet",
      "model_module_version": "^0.12.3",
      "model_name": "LeafletTileLayerModel",
      "state": {
       "_model_module_version": "^0.12.3",
       "_view_module_version": "^0.12.3",
       "base": true,
       "max_native_zoom": 18,
       "max_zoom": 19,
       "min_native_zoom": 0,
       "min_zoom": 1,
       "no_wrap": false,
       "options": [
        "attribution",
        "detect_retina",
        "max_native_zoom",
        "max_zoom",
        "min_native_zoom",
        "min_zoom",
        "no_wrap",
        "tile_size",
        "tms"
       ]
      }
     },
     "4edfd9c0a41a42eebf2ab6d349292c65": {
      "model_module": "jupyter-leaflet",
      "model_module_version": "^0.12.3",
      "model_name": "LeafletMapStyleModel",
      "state": {
       "_model_module_version": "^0.12.3"
      }
     },
     "4f7676fc1907483aab4eb517a06df3ee": {
      "model_module": "jupyter-leaflet",
      "model_module_version": "^0.12.3",
      "model_name": "LeafletMarkerModel",
      "state": {
       "_model_module_version": "^0.12.3",
       "_view_module_version": "^0.12.3",
       "draggable": false,
       "location": [
        28.32,
        101.84
       ],
       "options": [
        "alt",
        "draggable",
        "keyboard",
        "rise_offset",
        "rise_on_hover",
        "rotation_angle",
        "rotation_origin",
        "title",
        "z_index_offset"
       ],
       "title": "冕宁县锦屏镇"
      }
     },
     "64798bf62403414ea78c48b5e587181e": {
      "model_module": "jupyter-leaflet",
      "model_module_version": "^0.12.3",
      "model_name": "LeafletMapStyleModel",
      "state": {
       "_model_module_version": "^0.12.3"
      }
     },
     "6cbef0eb2e6b4d998617fb7ccb7c0e4e": {
      "model_module": "jupyter-leaflet",
      "model_module_version": "^0.12.3",
      "model_name": "LeafletZoomControlModel",
      "state": {
       "_model_module_version": "^0.12.3",
       "_view_module_version": "^0.12.3",
       "options": [
        "position",
        "zoom_in_text",
        "zoom_in_title",
        "zoom_out_text",
        "zoom_out_title"
       ]
      }
     },
     "92ebfef850ed4e49b499b1ff5c6f6cb3": {
      "model_module": "jupyter-leaflet",
      "model_module_version": "^0.12.3",
      "model_name": "LeafletMapModel",
      "state": {
       "_model_module_version": "^0.12.3",
       "_view_module_version": "^0.12.3",
       "center": [
        28.04984,
        101.89562000000001
       ],
       "controls": [
        "IPY_MODEL_6cbef0eb2e6b4d998617fb7ccb7c0e4e",
        "IPY_MODEL_9da7656cbbd74f2db8e6e1cd32c644f4"
       ],
       "default_style": "IPY_MODEL_64798bf62403414ea78c48b5e587181e",
       "dragging_style": "IPY_MODEL_db0bd071f2564119874b1c4dd848d4e3",
       "east": 104.90295410156251,
       "fullscreen": false,
       "interpolation": "bilinear",
       "layers": [
        "IPY_MODEL_38db808dcf3f4e0f8685a68d90dadd78",
        "IPY_MODEL_fdf541ab1083447db6fcfb30832c1cc6"
       ],
       "layout": "IPY_MODEL_1310137f47c3488896c45d64d7a218ee",
       "modisdate": "yesterday",
       "north": 29.012944302424863,
       "options": [
        "bounce_at_zoom_limits",
        "box_zoom",
        "center",
        "close_popup_on_click",
        "double_click_zoom",
        "dragging",
        "fullscreen",
        "inertia",
        "inertia_deceleration",
        "inertia_max_speed",
        "interpolation",
        "keyboard",
        "keyboard_pan_offset",
        "keyboard_zoom_offset",
        "max_zoom",
        "min_zoom",
        "scroll_wheel_zoom",
        "tap",
        "tap_tolerance",
        "touch_zoom",
        "world_copy_jump",
        "zoom",
        "zoom_animation_threshold",
        "zoom_start"
       ],
       "south": 27.07380043091176,
       "style": "IPY_MODEL_4edfd9c0a41a42eebf2ab6d349292c65",
       "west": 98.887939453125,
       "zoom": 8
      }
     },
     "9da7656cbbd74f2db8e6e1cd32c644f4": {
      "model_module": "jupyter-leaflet",
      "model_module_version": "^0.12.3",
      "model_name": "LeafletAttributionControlModel",
      "state": {
       "_model_module_version": "^0.12.3",
       "_view_module_version": "^0.12.3",
       "options": [
        "position",
        "prefix"
       ],
       "position": "bottomright",
       "prefix": "Leaflet"
      }
     },
     "db0bd071f2564119874b1c4dd848d4e3": {
      "model_module": "jupyter-leaflet",
      "model_module_version": "^0.12.3",
      "model_name": "LeafletMapStyleModel",
      "state": {
       "_model_module_version": "^0.12.3",
       "cursor": "move"
      }
     },
     "fb6b4b1827ae4e42abd709d5903098b9": {
      "model_module": "jupyter-leaflet",
      "model_module_version": "^0.12.3",
      "model_name": "LeafletMarkerModel",
      "state": {
       "_model_module_version": "^0.12.3",
       "_view_module_version": "^0.12.3",
       "draggable": false,
       "location": [
        27.91,
        101.32
       ],
       "options": [
        "alt",
        "draggable",
        "keyboard",
        "rise_offset",
        "rise_on_hover",
        "rotation_angle",
        "rotation_origin",
        "title",
        "z_index_offset"
       ],
       "title": "木里县项脚乡"
      }
     },
     "fca16cdc2d9745ae9d18034ec56d0507": {
      "model_module": "jupyter-leaflet",
      "model_module_version": "^0.12.3",
      "model_name": "LeafletMarkerModel",
      "state": {
       "_model_module_version": "^0.12.3",
       "_view_module_version": "^0.12.3",
       "draggable": false,
       "location": [
        27.8492,
        102.2681
       ],
       "options": [
        "alt",
        "draggable",
        "keyboard",
        "rise_offset",
        "rise_on_hover",
        "rotation_angle",
        "rotation_origin",
        "title",
        "z_index_offset"
       ],
       "title": "839005"
      }
     },
     "fdf541ab1083447db6fcfb30832c1cc6": {
      "model_module": "jupyter-leaflet",
      "model_module_version": "^0.12.3",
      "model_name": "LeafletMarkerClusterModel",
      "state": {
       "_model_module_version": "^0.12.3",
       "_view_module_version": "^0.12.3",
       "markers": [
        "IPY_MODEL_2056d7f50dee41bcb8c5adc18d7558d8",
        "IPY_MODEL_fb6b4b1827ae4e42abd709d5903098b9",
        "IPY_MODEL_4f7676fc1907483aab4eb517a06df3ee",
        "IPY_MODEL_1b204510caf9400091456991b4b55d1e",
        "IPY_MODEL_fca16cdc2d9745ae9d18034ec56d0507"
       ]
      }
     }
    },
    "version_major": 2,
    "version_minor": 0
   }
  }
 },
 "nbformat": 4,
 "nbformat_minor": 4
}
