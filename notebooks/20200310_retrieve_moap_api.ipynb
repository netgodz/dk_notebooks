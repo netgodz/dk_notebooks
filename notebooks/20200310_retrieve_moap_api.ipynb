{
 "cells": [
  {
   "cell_type": "markdown",
   "metadata": {},
   "source": [
    "# 通过MOAP接口访问智能网格预报数据"
   ]
  },
  {
   "cell_type": "code",
   "execution_count": null,
   "metadata": {},
   "outputs": [],
   "source": [
    "接口说明又胡争光提供."
   ]
  },
  {
   "cell_type": "code",
   "execution_count": 1,
   "metadata": {},
   "outputs": [],
   "source": [
    "import requests\n",
    "import json\n",
    "import pandas as pd\n",
    "import nmc_met_io.config as CONFIG\n",
    "from datetime import datetime"
   ]
  },
  {
   "cell_type": "code",
   "execution_count": 2,
   "metadata": {},
   "outputs": [
    {
     "data": {
      "text/plain": [
       "'{\"category\":[\"2020-03-10 21:00\",\"2020-03-10 22:00\",\"2020-03-10 23:00\",\"2020-03-11 00:00\",\"2020-03-11 01:00\",\"2020-03-11 02:00\",\"2020-03-11 03:00\",\"2020-03-11 04:00\",\"2020-03-11 05:00\",\"2020-03-11 06:00\",\"2020-03-11 07:00\",\"2020-03-11 08:00\",\"2020-03-11 09:00\",\"2020-03-11 10:00\",\"2020-03-11 11:00\",\"2020-03-11 12:00\",\"2020-03-11 13:00\",\"2020-03-11 14:00\",\"2020-03-11 15:00\",\"2020-03-11 16:00\",\"2020-03-11 17:00\",\"2020-03-11 18:00\",\"2020-03-11 19:00\",\"2020-03-11 20:00\",\"2020-03-11 23:00\",\"2020-03-12 02:00\",\"2020-03-12 05:00\",\"2020-03-12 08:00\",\"2020-03-12 11:00\",\"2020-03-12 14:00\",\"2020-03-12 17:00\",\"2020-03-12 20:00\",\"2020-03-12 23:00\",\"2020-03-13 02:00\",\"2020-03-13 05:00\",\"2020-03-13 08:00\",\"2020-03-13 11:00\",\"2020-03-13 14:00\",\"2020-03-13 17:00\",\"2020-03-13 20:00\",\"2020-03-13 23:00\",\"2020-03-14 02:00\",\"2020-03-14 05:00\",\"2020-03-14 08:00\",\"2020-03-14 11:00\",\"2020-03-14 14:00\",\"2020-03-14 17:00\",\"2020-03-14 20:00\",\"2020-03-14 23:00\",\"2020-03-15 02:00\",\"2020-03-15 05:00\",\"2020-03-15 08:00\",\"2020-03-15 11:00\",\"2020-03-15 14:00\",\"2020-03-15 17:00\",\"2020-03-15 20:00\",\"2020-03-15 23:00\",\"2020-03-16 02:00\",\"2020-03-16 05:00\",\"2020-03-16 08:00\",\"2020-03-16 11:00\",\"2020-03-16 14:00\",\"2020-03-16 17:00\",\"2020-03-16 20:00\",\"2020-03-16 23:00\",\"2020-03-17 02:00\",\"2020-03-17 05:00\",\"2020-03-17 08:00\",\"2020-03-17 11:00\",\"2020-03-17 14:00\",\"2020-03-17 17:00\",\"2020-03-17 20:00\",\"2020-03-17 23:00\",\"2020-03-18 02:00\",\"2020-03-18 05:00\",\"2020-03-18 08:00\",\"2020-03-18 11:00\",\"2020-03-18 14:00\",\"2020-03-18 17:00\",\"2020-03-18 20:00\",\"2020-03-18 23:00\",\"2020-03-19 02:00\",\"2020-03-19 05:00\",\"2020-03-19 08:00\",\"2020-03-19 11:00\",\"2020-03-19 14:00\",\"2020-03-19 17:00\",\"2020-03-19 20:00\",\"2020-03-19 23:00\",\"2020-03-20 02:00\",\"2020-03-20 05:00\",\"2020-03-20 08:00\",\"2020-03-20 11:00\",\"2020-03-20 14:00\",\"2020-03-20 17:00\",\"2020-03-20 20:00\"],\"data\":[5.26,4.61,4,3.1,2.11,1,-0.46,-1,-1,-1,-1,1,4.07,7.58,10,11.07,12.74,14,13.68,13.36,12.85,11.61,10.73,9.85,6.15,3.15,2,5,11,14,12.66,9.16,4.84,1.34,0,2.25,6.75,9,8.05,5.55,2.45,-0.05,-1,2.5,9.5,13,11.85,8.85,5.15,2.15,1,4.25,10.75,14,12.85,9.85,6.15,3.15,2,4.75,10.25,13,12.05,9.55,6.45,3.95,3,6.25,12.75,16,14.85,11.85,8.15,5.15,4,6.5,11.5,14,12.95,10.2,6.8,4.05,3,5.5,10.5,13,11.95,9.2,5.8,3.05,2,4.75,10.25,13,11.95,9.2],\"publishDate\":\"2020-03-10 20:00\"}'"
      ]
     },
     "execution_count": 2,
     "metadata": {},
     "output_type": "execute_result"
    }
   ],
   "source": [
    "r = requests.get('http://nwfd.nmc.cn/RestService/api/v1/getGridSequenceData/ttt/116.4/39.9/10')\n",
    "r.text"
   ]
  },
  {
   "cell_type": "code",
   "execution_count": 3,
   "metadata": {},
   "outputs": [],
   "source": [
    "info = json.loads(r.text)"
   ]
  },
  {
   "cell_type": "code",
   "execution_count": 6,
   "metadata": {},
   "outputs": [],
   "source": [
    "data = pd.DataFrame(info)"
   ]
  },
  {
   "cell_type": "code",
   "execution_count": 9,
   "metadata": {},
   "outputs": [
    {
     "data": {
      "text/plain": [
       "0    2020-03-10 21:00:00\n",
       "1    2020-03-10 22:00:00\n",
       "2    2020-03-10 23:00:00\n",
       "3    2020-03-11 00:00:00\n",
       "4    2020-03-11 01:00:00\n",
       "             ...        \n",
       "91   2020-03-20 08:00:00\n",
       "92   2020-03-20 11:00:00\n",
       "93   2020-03-20 14:00:00\n",
       "94   2020-03-20 17:00:00\n",
       "95   2020-03-20 20:00:00\n",
       "Name: category, Length: 96, dtype: datetime64[ns]"
      ]
     },
     "execution_count": 9,
     "metadata": {},
     "output_type": "execute_result"
    }
   ],
   "source": [
    "pd.to_datetime(data['category'])"
   ]
  },
  {
   "cell_type": "code",
   "execution_count": 17,
   "metadata": {},
   "outputs": [],
   "source": [
    "r = requests.get('http://nwfd.nmc.cn/RestService/api/v1/getPredict/112.61/38.51/0')\n",
    "info = json.loads(r.text)"
   ]
  },
  {
   "cell_type": "code",
   "execution_count": 18,
   "metadata": {},
   "outputs": [
    {
     "data": {
      "text/plain": [
       "{'detail': [{'date': '2020-03-10',\n",
       "   'day': {'weather': {'img': '9999', 'info': '9999', 'temperature': '9999'},\n",
       "    'wind': {'direct': '9999', 'power': '9999'}},\n",
       "   'night': {'weather': {'img': '0', 'info': '晴', 'temperature': '-4.3'},\n",
       "    'wind': {'direct': '9999', 'power': '9999'}},\n",
       "   'pt': '2020-03-10 20:00'},\n",
       "  {'date': '2020-03-11',\n",
       "   'day': {'weather': {'img': '0', 'info': '晴', 'temperature': '13.7'},\n",
       "    'wind': {'direct': '9999', 'power': '9999'}},\n",
       "   'night': {'weather': {'img': '0', 'info': '晴', 'temperature': '-4.3'},\n",
       "    'wind': {'direct': '9999', 'power': '9999'}},\n",
       "   'pt': '2020-03-10 20:00'},\n",
       "  {'date': '2020-03-12',\n",
       "   'day': {'weather': {'img': '0', 'info': '晴', 'temperature': '12.2'},\n",
       "    'wind': {'direct': '9999', 'power': '9999'}},\n",
       "   'night': {'weather': {'img': '0', 'info': '晴', 'temperature': '-1.5'},\n",
       "    'wind': {'direct': '9999', 'power': '9999'}},\n",
       "   'pt': '2020-03-10 20:00'},\n",
       "  {'date': '2020-03-13',\n",
       "   'day': {'weather': {'img': '0', 'info': '晴', 'temperature': '7.8'},\n",
       "    'wind': {'direct': '9999', 'power': '9999'}},\n",
       "   'night': {'weather': {'img': '0', 'info': '晴', 'temperature': '-4.1'},\n",
       "    'wind': {'direct': '9999', 'power': '9999'}},\n",
       "   'pt': '2020-03-10 20:00'},\n",
       "  {'date': '2020-03-14',\n",
       "   'day': {'weather': {'img': '0', 'info': '晴', 'temperature': '8.53'},\n",
       "    'wind': {'direct': '9999', 'power': '9999'}},\n",
       "   'night': {'weather': {'img': '0', 'info': '晴', 'temperature': '-6.31'},\n",
       "    'wind': {'direct': '9999', 'power': '9999'}},\n",
       "   'pt': '2020-03-10 20:00'},\n",
       "  {'date': '2020-03-15',\n",
       "   'day': {'weather': {'img': '0', 'info': '晴', 'temperature': '11.37'},\n",
       "    'wind': {'direct': '9999', 'power': '9999'}},\n",
       "   'night': {'weather': {'img': '1', 'info': '多云', 'temperature': '-6.08'},\n",
       "    'wind': {'direct': '9999', 'power': '9999'}},\n",
       "   'pt': '2020-03-10 20:00'},\n",
       "  {'date': '2020-03-16',\n",
       "   'day': {'weather': {'img': '0', 'info': '晴', 'temperature': '14.15'},\n",
       "    'wind': {'direct': '9999', 'power': '9999'}},\n",
       "   'night': {'weather': {'img': '0', 'info': '晴', 'temperature': '-2.51'},\n",
       "    'wind': {'direct': '9999', 'power': '9999'}},\n",
       "   'pt': '2020-03-10 20:00'},\n",
       "  {'date': '2020-03-17',\n",
       "   'day': {'weather': {'img': '0', 'info': '晴', 'temperature': '15.82'},\n",
       "    'wind': {'direct': '9999', 'power': '9999'}},\n",
       "   'night': {'weather': {'img': '0', 'info': '晴', 'temperature': '-1.74'},\n",
       "    'wind': {'direct': '9999', 'power': '9999'}},\n",
       "   'pt': '2020-03-10 20:00'},\n",
       "  {'date': '2020-03-18',\n",
       "   'day': {'weather': {'img': '1', 'info': '多云', 'temperature': '16.98'},\n",
       "    'wind': {'direct': '9999', 'power': '9999'}},\n",
       "   'night': {'weather': {'img': '0', 'info': '晴', 'temperature': '0.45'},\n",
       "    'wind': {'direct': '9999', 'power': '9999'}},\n",
       "   'pt': '2020-03-10 20:00'},\n",
       "  {'date': '2020-03-19',\n",
       "   'day': {'weather': {'img': '0', 'info': '晴', 'temperature': '14.68'},\n",
       "    'wind': {'direct': '9999', 'power': '9999'}},\n",
       "   'night': {'weather': {'img': '1', 'info': '多云', 'temperature': '1.1'},\n",
       "    'wind': {'direct': '9999', 'power': '9999'}},\n",
       "   'pt': '2020-03-10 20:00'},\n",
       "  {'date': '2020-03-20',\n",
       "   'day': {'weather': {'img': '0', 'info': '晴', 'temperature': '12.74'},\n",
       "    'wind': {'direct': '9999', 'power': '9999'}},\n",
       "   'night': {'weather': {'img': '0', 'info': '晴', 'temperature': '0.75'},\n",
       "    'wind': {'direct': '9999', 'power': '9999'}},\n",
       "   'pt': '2020-03-10 20:00'},\n",
       "  {'date': '2020-03-21',\n",
       "   'day': {'weather': {'img': '0', 'info': '晴', 'temperature': '12.8'},\n",
       "    'wind': {'direct': '9999', 'power': '9999'}},\n",
       "   'night': {'weather': {'img': '0', 'info': '晴', 'temperature': '-2.8'},\n",
       "    'wind': {'direct': '9999', 'power': '9999'}},\n",
       "   'pt': '2020-03-10 20:00'},\n",
       "  {'date': '2020-03-22',\n",
       "   'day': {'weather': {'img': '0', 'info': '晴', 'temperature': '13.6'},\n",
       "    'wind': {'direct': '9999', 'power': '9999'}},\n",
       "   'night': {'weather': {'img': '0', 'info': '晴', 'temperature': '-1.5'},\n",
       "    'wind': {'direct': '9999', 'power': '9999'}},\n",
       "   'pt': '2020-03-10 20:00'},\n",
       "  {'date': '2020-03-23',\n",
       "   'day': {'weather': {'img': '0', 'info': '晴', 'temperature': '14.2'},\n",
       "    'wind': {'direct': '9999', 'power': '9999'}},\n",
       "   'night': {'weather': {'img': '0', 'info': '晴', 'temperature': '-0.9'},\n",
       "    'wind': {'direct': '9999', 'power': '9999'}},\n",
       "   'pt': '2020-03-10 20:00'},\n",
       "  {'date': '2020-03-24',\n",
       "   'day': {'weather': {'img': '0', 'info': '晴', 'temperature': '15.0'},\n",
       "    'wind': {'direct': '9999', 'power': '9999'}},\n",
       "   'night': {'weather': {'img': '0', 'info': '晴', 'temperature': '0.0'},\n",
       "    'wind': {'direct': '9999', 'power': '9999'}},\n",
       "   'pt': '2020-03-10 20:00'},\n",
       "  {'date': '2020-03-25',\n",
       "   'day': {'weather': {'img': '7', 'info': '小雨', 'temperature': '11.4'},\n",
       "    'wind': {'direct': '9999', 'power': '9999'}},\n",
       "   'night': {'weather': {'img': '7', 'info': '小雨', 'temperature': '2.8'},\n",
       "    'wind': {'direct': '9999', 'power': '9999'}},\n",
       "   'pt': '2020-03-10 20:00'},\n",
       "  {'date': '2020-03-26',\n",
       "   'day': {'weather': {'img': '0', 'info': '晴', 'temperature': '9.9'},\n",
       "    'wind': {'direct': '9999', 'power': '9999'}},\n",
       "   'night': {'weather': {'img': '0', 'info': '晴', 'temperature': '0.0'},\n",
       "    'wind': {'direct': '9999', 'power': '9999'}},\n",
       "   'pt': '2020-03-10 20:00'},\n",
       "  {'date': '2020-03-27',\n",
       "   'day': {'weather': {'img': '0', 'info': '晴', 'temperature': '9.3'},\n",
       "    'wind': {'direct': '9999', 'power': '9999'}},\n",
       "   'night': {'weather': {'img': '0', 'info': '晴', 'temperature': '-0.7'},\n",
       "    'wind': {'direct': '9999', 'power': '9999'}},\n",
       "   'pt': '2020-03-10 20:00'},\n",
       "  {'date': '2020-03-28',\n",
       "   'day': {'weather': {'img': '0', 'info': '晴', 'temperature': '9.8'},\n",
       "    'wind': {'direct': '9999', 'power': '9999'}},\n",
       "   'night': {'weather': {'img': '0', 'info': '晴', 'temperature': '-1.5'},\n",
       "    'wind': {'direct': '9999', 'power': '9999'}},\n",
       "   'pt': '2020-03-10 20:00'},\n",
       "  {'date': '2020-03-29',\n",
       "   'day': {'weather': {'img': '0', 'info': '晴', 'temperature': '10.9'},\n",
       "    'wind': {'direct': '9999', 'power': '9999'}},\n",
       "   'night': {'weather': {'img': '0', 'info': '晴', 'temperature': '-1.8'},\n",
       "    'wind': {'direct': '9999', 'power': '9999'}},\n",
       "   'pt': '2020-03-10 20:00'},\n",
       "  {'date': '2020-03-30',\n",
       "   'day': {'weather': {'img': '7', 'info': '小雨', 'temperature': '10.5'},\n",
       "    'wind': {'direct': '9999', 'power': '9999'}},\n",
       "   'night': {'weather': {'img': '7', 'info': '小雨', 'temperature': '-0.7'},\n",
       "    'wind': {'direct': '9999', 'power': '9999'}},\n",
       "   'pt': '2020-03-10 20:00'},\n",
       "  {'date': '2020-03-31',\n",
       "   'day': {'weather': {'img': '7', 'info': '小雨', 'temperature': '11.9'},\n",
       "    'wind': {'direct': '9999', 'power': '9999'}},\n",
       "   'night': {'weather': {'img': '7', 'info': '小雨', 'temperature': '-0.8'},\n",
       "    'wind': {'direct': '9999', 'power': '9999'}},\n",
       "   'pt': '2020-03-10 20:00'},\n",
       "  {'date': '2020-04-01',\n",
       "   'day': {'weather': {'img': '0', 'info': '晴', 'temperature': '15.1'},\n",
       "    'wind': {'direct': '9999', 'power': '9999'}},\n",
       "   'night': {'weather': {'img': '0', 'info': '晴', 'temperature': '-0.4'},\n",
       "    'wind': {'direct': '9999', 'power': '9999'}},\n",
       "   'pt': '2020-03-10 20:00'},\n",
       "  {'date': '2020-04-02',\n",
       "   'day': {'weather': {'img': '0', 'info': '晴', 'temperature': '14.5'},\n",
       "    'wind': {'direct': '9999', 'power': '9999'}},\n",
       "   'night': {'weather': {'img': '0', 'info': '晴', 'temperature': '1.0'},\n",
       "    'wind': {'direct': '9999', 'power': '9999'}},\n",
       "   'pt': '2020-03-10 20:00'},\n",
       "  {'date': '2020-04-03',\n",
       "   'day': {'weather': {'img': '7', 'info': '小雨', 'temperature': '13.8'},\n",
       "    'wind': {'direct': '9999', 'power': '9999'}},\n",
       "   'night': {'weather': {'img': '7', 'info': '小雨', 'temperature': '0.9'},\n",
       "    'wind': {'direct': '9999', 'power': '9999'}},\n",
       "   'pt': '2020-03-10 20:00'},\n",
       "  {'date': '2020-04-04',\n",
       "   'day': {'weather': {'img': '7', 'info': '小雨', 'temperature': '13.4'},\n",
       "    'wind': {'direct': '9999', 'power': '9999'}},\n",
       "   'night': {'weather': {'img': '7', 'info': '小雨', 'temperature': '0.3'},\n",
       "    'wind': {'direct': '9999', 'power': '9999'}},\n",
       "   'pt': '2020-03-10 20:00'},\n",
       "  {'date': '2020-04-05',\n",
       "   'day': {'weather': {'img': '7', 'info': '小雨', 'temperature': '13.6'},\n",
       "    'wind': {'direct': '9999', 'power': '9999'}},\n",
       "   'night': {'weather': {'img': '7', 'info': '小雨', 'temperature': '-0.1'},\n",
       "    'wind': {'direct': '9999', 'power': '9999'}},\n",
       "   'pt': '2020-03-10 20:00'},\n",
       "  {'date': '2020-04-06',\n",
       "   'day': {'weather': {'img': '7', 'info': '小雨', 'temperature': '13.4'},\n",
       "    'wind': {'direct': '9999', 'power': '9999'}},\n",
       "   'night': {'weather': {'img': '7', 'info': '小雨', 'temperature': '-0.3'},\n",
       "    'wind': {'direct': '9999', 'power': '9999'}},\n",
       "   'pt': '2020-03-10 20:00'},\n",
       "  {'date': '2020-04-07',\n",
       "   'day': {'weather': {'img': '7', 'info': '小雨', 'temperature': '14.5'},\n",
       "    'wind': {'direct': '9999', 'power': '9999'}},\n",
       "   'night': {'weather': {'img': '7', 'info': '小雨', 'temperature': '0.5'},\n",
       "    'wind': {'direct': '9999', 'power': '9999'}},\n",
       "   'pt': '2020-03-10 20:00'},\n",
       "  {'date': '2020-04-08',\n",
       "   'day': {'weather': {'img': '0', 'info': '晴', 'temperature': '15.8'},\n",
       "    'wind': {'direct': '9999', 'power': '9999'}},\n",
       "   'night': {'weather': {'img': '0', 'info': '晴', 'temperature': '-0.1'},\n",
       "    'wind': {'direct': '9999', 'power': '9999'}},\n",
       "   'pt': '2020-03-10 20:00'}],\n",
       " 'point': {'lat': 38.51, 'lng': 112.61},\n",
       " 'publish_time': '2020-03-10 20:00'}"
      ]
     },
     "execution_count": 18,
     "metadata": {},
     "output_type": "execute_result"
    }
   ],
   "source": [
    "info"
   ]
  }
 ],
 "metadata": {
  "kernelspec": {
   "display_name": "Python 3",
   "language": "python",
   "name": "python3"
  },
  "language_info": {
   "codemirror_mode": {
    "name": "ipython",
    "version": 3
   },
   "file_extension": ".py",
   "mimetype": "text/x-python",
   "name": "python",
   "nbconvert_exporter": "python",
   "pygments_lexer": "ipython3",
   "version": "3.7.4"
  }
 },
 "nbformat": 4,
 "nbformat_minor": 4
}
