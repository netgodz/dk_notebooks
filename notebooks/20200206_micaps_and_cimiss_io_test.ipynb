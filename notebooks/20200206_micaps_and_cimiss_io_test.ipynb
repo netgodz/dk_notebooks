{
 "cells": [
  {
   "cell_type": "code",
   "execution_count": 2,
   "metadata": {},
   "outputs": [
    {
     "name": "stdout",
     "output_type": "stream",
     "text": [
      "The autoreload extension is already loaded. To reload it, use:\n",
      "  %reload_ext autoreload\n"
     ]
    }
   ],
   "source": [
    "# set up things\n",
    "%matplotlib inline\n",
    "%load_ext autoreload\n",
    "%autoreload 2"
   ]
  },
  {
   "cell_type": "code",
   "execution_count": null,
   "metadata": {},
   "outputs": [],
   "source": [
    "from __future__ import print_function\n",
    "\n",
    "from siphon.catalog import TDSCatalog\n",
    "from siphon.http_util import session_manager"
   ]
  },
  {
   "cell_type": "code",
   "execution_count": 2,
   "metadata": {},
   "outputs": [
    {
     "name": "stderr",
     "output_type": "stream",
     "text": [
      "/home/kan-dai/anaconda3/lib/python3.7/site-packages/siphon/catalog.py:268: UserWarning: URL http://thredds.cma.gov.cn/thredds/catalog.html returned HTML. Changing to: http://thredds.cma.gov.cn/thredds/catalog.xml\n",
      "  new_url))\n"
     ]
    },
    {
     "name": "stdout",
     "output_type": "stream",
     "text": [
      "['GRAPES-Global Model Data', 'GRAPES-Meso Model Data', 'GRAPES-Meso Model (3KM) Data', 'GRAPES-RUC Model Data', 'T639 Deterministic Model Data', 'WRF ADAS Real Time System (SHANGHAI) Model Data', 'RMAPS (BEIJING) Model Data', 'Guangzhou Meso Model Data', 'CMA Meso Models Data', 'ECMWF Main High Resolution Model Products (C1D)', 'ECMWF Global Wave Model Data (C2P)', 'ECMWF Ensemble Model Products (C3E)', 'ECMWF Extreme Forecast Index (EFI) Products (C3Y_EFI)', 'ECMWF Shift Of Tails (SOT) Products (C3Y_SOT)', 'ECMWF C3Y ISOBARIC ES/EP Products (C3Y_ISOBARIC)', 'ECMWF Monthly Forecast Real Time Atmospheric Data (C7F)', 'ECMWF Monthly Forecast Hindcast Atmospheric Data (C7H)', 'Global Forecast System (GFS) 0p5deg', 'Global Forecast System (GFS) 0p5deg  Analysis', 'Germany Global Spectral Model', 'JMA Global Spectral Model', 'Case Data GRAPES_Global', 'Case Data ECMWF_C1D', 'T3E Model Testing', 'Information data']\n"
     ]
    }
   ],
   "source": [
    "cat = TDSCatalog('http://thredds.cma.gov.cn/thredds/catalog.xml')\n",
    "print(list(cat.catalog_refs))"
   ]
  },
  {
   "cell_type": "code",
   "execution_count": 2,
   "metadata": {},
   "outputs": [],
   "source": [
    "import xarray as xr"
   ]
  },
  {
   "cell_type": "code",
   "execution_count": 3,
   "metadata": {},
   "outputs": [
    {
     "name": "stdout",
     "output_type": "stream",
     "text": [
      "CPU times: user 78 ms, sys: 19.7 ms, total: 97.7 ms\n",
      "Wall time: 15.1 s\n"
     ]
    }
   ],
   "source": [
    "%%time\n",
    "f = xr.open_dataset('http://thredds.cma.gov.cn/thredds/dodsC/nwp/ECMWF/C1DI/ecmwf_deterministic_isobaric-2020020600/GC')"
   ]
  },
  {
   "cell_type": "code",
   "execution_count": 4,
   "metadata": {},
   "outputs": [
    {
     "data": {
      "text/html": [
       "<pre>&lt;xarray.Dataset&gt;\n",
       "Dimensions:                       (isobaric: 19, lat: 281, lon: 361, reftime: 1, time: 53)\n",
       "Coordinates:\n",
       "  * lat                           (lat) float32 60.000004 ... -9.999996\n",
       "  * lon                           (lon) float32 60.000004 60.250004 ... 150.0\n",
       "  * reftime                       (reftime) datetime64[ns] 2020-02-06\n",
       "  * time                          (time) datetime64[ns] 2020-02-06 ... 2020-02-16\n",
       "  * isobaric                      (isobaric) float32 10.0 20.0 ... 950.0 1000.0\n",
       "Data variables:\n",
       "    reftime_ISO                   (reftime) |S64 ...\n",
       "    Temperature_isobaric          (time, isobaric, lat, lon) float32 ...\n",
       "    U_component_of_wind_isobaric  (time, isobaric, lat, lon) float32 ...\n",
       "    V_component_of_wind_isobaric  (time, isobaric, lat, lon) float32 ...\n",
       "    Specific_humidity_isobaric    (time, isobaric, lat, lon) float32 ...\n",
       "    Vertical_velocity_isobaric    (time, isobaric, lat, lon) float32 ...\n",
       "    Divergence_isobaric           (time, isobaric, lat, lon) float32 ...\n",
       "    Geopotential_Height_isobaric  (time, isobaric, lat, lon) float32 ...\n",
       "    Relative_humidity_isobaric    (time, isobaric, lat, lon) float32 ...\n",
       "    Potential_vorticity_isobaric  (time, isobaric, lat, lon) float32 ...\n",
       "Attributes:\n",
       "    Originating_or_generating_Center:     European Centre for Medium Range We...\n",
       "    Originating_or_generating_Subcenter:  0\n",
       "    GRIB_table_version:                   0,128\n",
       "    Conventions:                          CF-1.6\n",
       "    history:                              Read using CDM IOSP GribCollection v2\n",
       "    featureType:                          GRID\n",
       "    file_format:                          GRIB-1\n",
       "    _CoordSysBuilder:                     ucar.nc2.dataset.conv.CF1Convention</pre>"
      ],
      "text/plain": [
       "<xarray.Dataset>\n",
       "Dimensions:                       (isobaric: 19, lat: 281, lon: 361, reftime: 1, time: 53)\n",
       "Coordinates:\n",
       "  * lat                           (lat) float32 60.000004 ... -9.999996\n",
       "  * lon                           (lon) float32 60.000004 60.250004 ... 150.0\n",
       "  * reftime                       (reftime) datetime64[ns] 2020-02-06\n",
       "  * time                          (time) datetime64[ns] 2020-02-06 ... 2020-02-16\n",
       "  * isobaric                      (isobaric) float32 10.0 20.0 ... 950.0 1000.0\n",
       "Data variables:\n",
       "    reftime_ISO                   (reftime) |S64 ...\n",
       "    Temperature_isobaric          (time, isobaric, lat, lon) float32 ...\n",
       "    U_component_of_wind_isobaric  (time, isobaric, lat, lon) float32 ...\n",
       "    V_component_of_wind_isobaric  (time, isobaric, lat, lon) float32 ...\n",
       "    Specific_humidity_isobaric    (time, isobaric, lat, lon) float32 ...\n",
       "    Vertical_velocity_isobaric    (time, isobaric, lat, lon) float32 ...\n",
       "    Divergence_isobaric           (time, isobaric, lat, lon) float32 ...\n",
       "    Geopotential_Height_isobaric  (time, isobaric, lat, lon) float32 ...\n",
       "    Relative_humidity_isobaric    (time, isobaric, lat, lon) float32 ...\n",
       "    Potential_vorticity_isobaric  (time, isobaric, lat, lon) float32 ...\n",
       "Attributes:\n",
       "    Originating_or_generating_Center:     European Centre for Medium Range We...\n",
       "    Originating_or_generating_Subcenter:  0\n",
       "    GRIB_table_version:                   0,128\n",
       "    Conventions:                          CF-1.6\n",
       "    history:                              Read using CDM IOSP GribCollection v2\n",
       "    featureType:                          GRID\n",
       "    file_format:                          GRIB-1\n",
       "    _CoordSysBuilder:                     ucar.nc2.dataset.conv.CF1Convention"
      ]
     },
     "execution_count": 4,
     "metadata": {},
     "output_type": "execute_result"
    }
   ],
   "source": [
    "f"
   ]
  },
  {
   "cell_type": "code",
   "execution_count": 8,
   "metadata": {},
   "outputs": [
    {
     "name": "stdout",
     "output_type": "stream",
     "text": [
      "CPU times: user 80.5 ms, sys: 11.7 ms, total: 92.2 ms\n",
      "Wall time: 28.2 s\n"
     ]
    },
    {
     "data": {
      "text/plain": [
       "<matplotlib.collections.QuadMesh at 0x7f49fd992d50>"
      ]
     },
     "execution_count": 8,
     "metadata": {},
     "output_type": "execute_result"
    },
    {
     "data": {
      "image/png": "[encoded data removed]",
      "text/plain": [
       "<Figure size 432x288 with 2 Axes>"
      ]
     },
     "metadata": {
      "needs_background": "light"
     },
     "output_type": "display_data"
    }
   ],
   "source": [
    "%%time\n",
    "f.Temperature_isobaric.isel(lat=12, lon=180).plot()"
   ]
  },
  {
   "cell_type": "code",
   "execution_count": 9,
   "metadata": {},
   "outputs": [
    {
     "name": "stdout",
     "output_type": "stream",
     "text": [
      "CPU times: user 33.8 ms, sys: 3.85 ms, total: 37.7 ms\n",
      "Wall time: 3.84 s\n"
     ]
    },
    {
     "data": {
      "text/plain": [
       "<matplotlib.collections.QuadMesh at 0x7f49fcdb6310>"
      ]
     },
     "execution_count": 9,
     "metadata": {},
     "output_type": "execute_result"
    },
    {
     "data": {
      "image/png": "[encoded data removed]",
      "text/plain": [
       "<Figure size 432x288 with 2 Axes>"
      ]
     },
     "metadata": {
      "needs_background": "light"
     },
     "output_type": "display_data"
    }
   ],
   "source": [
    "%%time\n",
    "f.Temperature_isobaric.isel(lat=120, lon=180).plot()"
   ]
  },
  {
   "cell_type": "code",
   "execution_count": 30,
   "metadata": {},
   "outputs": [],
   "source": [
    "import json\n",
    "from datetime import datetime, timedelta\n",
    "import urllib3\n",
    "import numpy as np\n",
    "import pandas as pd\n",
    "import xarray as xr\n",
    "from nmc_met_io.retrieve_cimiss_server import get_http_result"
   ]
  },
  {
   "cell_type": "code",
   "execution_count": 31,
   "metadata": {},
   "outputs": [],
   "source": [
    "def cimiss_model_by_time(init_time_str=\"2020020600\",\n",
    "                         data_code='NAFP_FOR_FTM_HIGH_EC_ANEA',\n",
    "                         fcst_level=1000, minVT=0, maxVT=84, \n",
    "                         latLons=\"32.90/116.40\", fcst_ele=\"TEM\"):\n",
    "    \"\"\"\n",
    "    Retrieve grid data from CIMISS service.\n",
    "\n",
    "    :param init_time_str: model run time, like \"2016081712\"\n",
    "    :param limit: [min_lat, min_lon, max_lat, max_lon]\n",
    "    :param data_code: MUSIC data code, default is \"NAFP_FOR_FTM_HIGH_EC_GLB\"\n",
    "    :param fcst_level: vertical level, default is 0.\n",
    "    :param valid_time: forecast element, default is 2m temperature \"TEF2\"\n",
    "    :param fcst_ele: forecast hour, default is 0\n",
    "    :return:\n",
    "    \"\"\"\n",
    "\n",
    "    # set retrieve parameters\n",
    "    params = {'dataCode': data_code,\n",
    "              'time': init_time_str + '0000',\n",
    "              'fcstLevel': '{:d}'.format(fcst_level),\n",
    "              'minVT': '{:d}'.format(minVT),\n",
    "              'maxVT': '{:d}'.format(maxVT),\n",
    "              'latLons': latLons,\n",
    "              'fcstEle': fcst_ele}\n",
    "    interface_id = 'getNafpEleAtPointByTimeAndLevelAndValidtimeRange'\n",
    "\n",
    "\n",
    "    # retrieve data contents\n",
    "    contents = get_http_result(interface_id, params)\n",
    "    if contents is None:\n",
    "        return None\n",
    "    contents = json.loads(contents.decode('utf-8'))\n",
    "    if contents['returnCode'] != '0':\n",
    "        return None\n",
    "    \n",
    "    return contents"
   ]
  },
  {
   "cell_type": "code",
   "execution_count": 32,
   "metadata": {},
   "outputs": [
    {
     "name": "stdout",
     "output_type": "stream",
     "text": [
      "CPU times: user 4.66 ms, sys: 241 µs, total: 4.9 ms\n",
      "Wall time: 4.47 s\n"
     ]
    }
   ],
   "source": [
    "%%time\n",
    "contents = cimiss_model_by_time()"
   ]
  },
  {
   "cell_type": "code",
   "execution_count": 33,
   "metadata": {},
   "outputs": [
    {
     "name": "stdout",
     "output_type": "stream",
     "text": [
      "{'returnCode': '0', 'returnMessage': 'Call Succeed', 'rowCount': '27', 'colCount': '4', 'requestParams': 'time=20200206000000&fcstele=TEM&maxvt=84&datacode=NAFP_FOR_FTM_HIGH_EC_ANEA&fcstlevel=1000&minvt=0&latlons=32.90/116.40', 'requestTime': '2020-02-06 14:42:27', 'responseTime': '2020-02-06 14:42:28', 'takeTime': '0.957', 'fieldNames': '纬度 经度 预报时效 温度', 'fieldUnits': '- - - K', 'DS': [{'Lat': '32.9', 'Lon': '116.4', 'Validtime': '20200206000000', 'TEM': '272.8858'}, {'Lat': '32.9', 'Lon': '116.4', 'Validtime': '20200206030000', 'TEM': '273.29004'}, {'Lat': '32.9', 'Lon': '116.4', 'Validtime': '20200206060000', 'TEM': '274.29462'}, {'Lat': '32.9', 'Lon': '116.4', 'Validtime': '20200206090000', 'TEM': '275.02625'}, {'Lat': '32.9', 'Lon': '116.4', 'Validtime': '20200206120000', 'TEM': '274.93832'}, {'Lat': '32.9', 'Lon': '116.4', 'Validtime': '20200206150000', 'TEM': '274.67535'}, {'Lat': '32.9', 'Lon': '116.4', 'Validtime': '20200206180000', 'TEM': '274.267'}, {'Lat': '32.9', 'Lon': '116.4', 'Validtime': '20200206210000', 'TEM': '273.8404'}, {'Lat': '32.9', 'Lon': '116.4', 'Validtime': '20200207000000', 'TEM': '273.70398'}, {'Lat': '32.9', 'Lon': '116.4', 'Validtime': '20200207030000', 'TEM': '275.4469'}, {'Lat': '32.9', 'Lon': '116.4', 'Validtime': '20200207060000', 'TEM': '278.03912'}, {'Lat': '32.9', 'Lon': '116.4', 'Validtime': '20200207090000', 'TEM': '278.51797'}, {'Lat': '32.9', 'Lon': '116.4', 'Validtime': '20200207120000', 'TEM': '278.3531'}, {'Lat': '32.9', 'Lon': '116.4', 'Validtime': '20200207150000', 'TEM': '277.81168'}, {'Lat': '32.9', 'Lon': '116.4', 'Validtime': '20200207180000', 'TEM': '277.60425'}, {'Lat': '32.9', 'Lon': '116.4', 'Validtime': '20200207210000', 'TEM': '277.66418'}, {'Lat': '32.9', 'Lon': '116.4', 'Validtime': '20200208000000', 'TEM': '277.62732'}, {'Lat': '32.9', 'Lon': '116.4', 'Validtime': '20200208030000', 'TEM': '278.4676'}, {'Lat': '32.9', 'Lon': '116.4', 'Validtime': '20200208060000', 'TEM': '280.20276'}, {'Lat': '32.9', 'Lon': '116.4', 'Validtime': '20200208090000', 'TEM': '280.78165'}, {'Lat': '32.9', 'Lon': '116.4', 'Validtime': '20200208120000', 'TEM': '280.54352'}, {'Lat': '32.9', 'Lon': '116.4', 'Validtime': '20200208150000', 'TEM': '280.2078'}, {'Lat': '32.9', 'Lon': '116.4', 'Validtime': '20200208180000', 'TEM': '279.8474'}, {'Lat': '32.9', 'Lon': '116.4', 'Validtime': '20200208210000', 'TEM': '279.55054'}, {'Lat': '32.9', 'Lon': '116.4', 'Validtime': '20200209000000', 'TEM': '279.3105'}, {'Lat': '32.9', 'Lon': '116.4', 'Validtime': '20200209060000', 'TEM': '283.90228'}, {'Lat': '32.9', 'Lon': '116.4', 'Validtime': '20200209120000', 'TEM': '285.1189'}]}\n"
     ]
    }
   ],
   "source": [
    "print(contents)"
   ]
  },
  {
   "cell_type": "code",
   "execution_count": 35,
   "metadata": {},
   "outputs": [
    {
     "data": {
      "text/plain": [
       "dict_keys(['returnCode', 'returnMessage', 'rowCount', 'colCount', 'requestParams', 'requestTime', 'responseTime', 'takeTime', 'fieldNames', 'fieldUnits', 'DS'])"
      ]
     },
     "execution_count": 35,
     "metadata": {},
     "output_type": "execute_result"
    }
   ],
   "source": [
    "contents.keys()"
   ]
  },
  {
   "cell_type": "code",
   "execution_count": 37,
   "metadata": {},
   "outputs": [],
   "source": [
    "data = contents['DS']"
   ]
  },
  {
   "cell_type": "code",
   "execution_count": 39,
   "metadata": {},
   "outputs": [
    {
     "data": {
      "text/html": [
       "<div>\n",
       "<style scoped>\n",
       "    .dataframe tbody tr th:only-of-type {\n",
       "        vertical-align: middle;\n",
       "    }\n",
       "\n",
       "    .dataframe tbody tr th {\n",
       "        vertical-align: top;\n",
       "    }\n",
       "\n",
       "    .dataframe thead th {\n",
       "        text-align: right;\n",
       "    }\n",
       "</style>\n",
       "<table border=\"1\" class=\"dataframe\">\n",
       "  <thead>\n",
       "    <tr style=\"text-align: right;\">\n",
       "      <th></th>\n",
       "      <th>Lat</th>\n",
       "      <th>Lon</th>\n",
       "      <th>Validtime</th>\n",
       "      <th>TEM</th>\n",
       "    </tr>\n",
       "  </thead>\n",
       "  <tbody>\n",
       "    <tr>\n",
       "      <th>0</th>\n",
       "      <td>32.9</td>\n",
       "      <td>116.4</td>\n",
       "      <td>20200206000000</td>\n",
       "      <td>272.8858</td>\n",
       "    </tr>\n",
       "    <tr>\n",
       "      <th>1</th>\n",
       "      <td>32.9</td>\n",
       "      <td>116.4</td>\n",
       "      <td>20200206030000</td>\n",
       "      <td>273.29004</td>\n",
       "    </tr>\n",
       "    <tr>\n",
       "      <th>2</th>\n",
       "      <td>32.9</td>\n",
       "      <td>116.4</td>\n",
       "      <td>20200206060000</td>\n",
       "      <td>274.29462</td>\n",
       "    </tr>\n",
       "    <tr>\n",
       "      <th>3</th>\n",
       "      <td>32.9</td>\n",
       "      <td>116.4</td>\n",
       "      <td>20200206090000</td>\n",
       "      <td>275.02625</td>\n",
       "    </tr>\n",
       "    <tr>\n",
       "      <th>4</th>\n",
       "      <td>32.9</td>\n",
       "      <td>116.4</td>\n",
       "      <td>20200206120000</td>\n",
       "      <td>274.93832</td>\n",
       "    </tr>\n",
       "    <tr>\n",
       "      <th>5</th>\n",
       "      <td>32.9</td>\n",
       "      <td>116.4</td>\n",
       "      <td>20200206150000</td>\n",
       "      <td>274.67535</td>\n",
       "    </tr>\n",
       "    <tr>\n",
       "      <th>6</th>\n",
       "      <td>32.9</td>\n",
       "      <td>116.4</td>\n",
       "      <td>20200206180000</td>\n",
       "      <td>274.267</td>\n",
       "    </tr>\n",
       "    <tr>\n",
       "      <th>7</th>\n",
       "      <td>32.9</td>\n",
       "      <td>116.4</td>\n",
       "      <td>20200206210000</td>\n",
       "      <td>273.8404</td>\n",
       "    </tr>\n",
       "    <tr>\n",
       "      <th>8</th>\n",
       "      <td>32.9</td>\n",
       "      <td>116.4</td>\n",
       "      <td>20200207000000</td>\n",
       "      <td>273.70398</td>\n",
       "    </tr>\n",
       "    <tr>\n",
       "      <th>9</th>\n",
       "      <td>32.9</td>\n",
       "      <td>116.4</td>\n",
       "      <td>20200207030000</td>\n",
       "      <td>275.4469</td>\n",
       "    </tr>\n",
       "    <tr>\n",
       "      <th>10</th>\n",
       "      <td>32.9</td>\n",
       "      <td>116.4</td>\n",
       "      <td>20200207060000</td>\n",
       "      <td>278.03912</td>\n",
       "    </tr>\n",
       "    <tr>\n",
       "      <th>11</th>\n",
       "      <td>32.9</td>\n",
       "      <td>116.4</td>\n",
       "      <td>20200207090000</td>\n",
       "      <td>278.51797</td>\n",
       "    </tr>\n",
       "    <tr>\n",
       "      <th>12</th>\n",
       "      <td>32.9</td>\n",
       "      <td>116.4</td>\n",
       "      <td>20200207120000</td>\n",
       "      <td>278.3531</td>\n",
       "    </tr>\n",
       "    <tr>\n",
       "      <th>13</th>\n",
       "      <td>32.9</td>\n",
       "      <td>116.4</td>\n",
       "      <td>20200207150000</td>\n",
       "      <td>277.81168</td>\n",
       "    </tr>\n",
       "    <tr>\n",
       "      <th>14</th>\n",
       "      <td>32.9</td>\n",
       "      <td>116.4</td>\n",
       "      <td>20200207180000</td>\n",
       "      <td>277.60425</td>\n",
       "    </tr>\n",
       "    <tr>\n",
       "      <th>15</th>\n",
       "      <td>32.9</td>\n",
       "      <td>116.4</td>\n",
       "      <td>20200207210000</td>\n",
       "      <td>277.66418</td>\n",
       "    </tr>\n",
       "    <tr>\n",
       "      <th>16</th>\n",
       "      <td>32.9</td>\n",
       "      <td>116.4</td>\n",
       "      <td>20200208000000</td>\n",
       "      <td>277.62732</td>\n",
       "    </tr>\n",
       "    <tr>\n",
       "      <th>17</th>\n",
       "      <td>32.9</td>\n",
       "      <td>116.4</td>\n",
       "      <td>20200208030000</td>\n",
       "      <td>278.4676</td>\n",
       "    </tr>\n",
       "    <tr>\n",
       "      <th>18</th>\n",
       "      <td>32.9</td>\n",
       "      <td>116.4</td>\n",
       "      <td>20200208060000</td>\n",
       "      <td>280.20276</td>\n",
       "    </tr>\n",
       "    <tr>\n",
       "      <th>19</th>\n",
       "      <td>32.9</td>\n",
       "      <td>116.4</td>\n",
       "      <td>20200208090000</td>\n",
       "      <td>280.78165</td>\n",
       "    </tr>\n",
       "    <tr>\n",
       "      <th>20</th>\n",
       "      <td>32.9</td>\n",
       "      <td>116.4</td>\n",
       "      <td>20200208120000</td>\n",
       "      <td>280.54352</td>\n",
       "    </tr>\n",
       "    <tr>\n",
       "      <th>21</th>\n",
       "      <td>32.9</td>\n",
       "      <td>116.4</td>\n",
       "      <td>20200208150000</td>\n",
       "      <td>280.2078</td>\n",
       "    </tr>\n",
       "    <tr>\n",
       "      <th>22</th>\n",
       "      <td>32.9</td>\n",
       "      <td>116.4</td>\n",
       "      <td>20200208180000</td>\n",
       "      <td>279.8474</td>\n",
       "    </tr>\n",
       "    <tr>\n",
       "      <th>23</th>\n",
       "      <td>32.9</td>\n",
       "      <td>116.4</td>\n",
       "      <td>20200208210000</td>\n",
       "      <td>279.55054</td>\n",
       "    </tr>\n",
       "    <tr>\n",
       "      <th>24</th>\n",
       "      <td>32.9</td>\n",
       "      <td>116.4</td>\n",
       "      <td>20200209000000</td>\n",
       "      <td>279.3105</td>\n",
       "    </tr>\n",
       "    <tr>\n",
       "      <th>25</th>\n",
       "      <td>32.9</td>\n",
       "      <td>116.4</td>\n",
       "      <td>20200209060000</td>\n",
       "      <td>283.90228</td>\n",
       "    </tr>\n",
       "    <tr>\n",
       "      <th>26</th>\n",
       "      <td>32.9</td>\n",
       "      <td>116.4</td>\n",
       "      <td>20200209120000</td>\n",
       "      <td>285.1189</td>\n",
       "    </tr>\n",
       "  </tbody>\n",
       "</table>\n",
       "</div>"
      ],
      "text/plain": [
       "     Lat    Lon       Validtime        TEM\n",
       "0   32.9  116.4  20200206000000   272.8858\n",
       "1   32.9  116.4  20200206030000  273.29004\n",
       "2   32.9  116.4  20200206060000  274.29462\n",
       "3   32.9  116.4  20200206090000  275.02625\n",
       "4   32.9  116.4  20200206120000  274.93832\n",
       "5   32.9  116.4  20200206150000  274.67535\n",
       "6   32.9  116.4  20200206180000    274.267\n",
       "7   32.9  116.4  20200206210000   273.8404\n",
       "8   32.9  116.4  20200207000000  273.70398\n",
       "9   32.9  116.4  20200207030000   275.4469\n",
       "10  32.9  116.4  20200207060000  278.03912\n",
       "11  32.9  116.4  20200207090000  278.51797\n",
       "12  32.9  116.4  20200207120000   278.3531\n",
       "13  32.9  116.4  20200207150000  277.81168\n",
       "14  32.9  116.4  20200207180000  277.60425\n",
       "15  32.9  116.4  20200207210000  277.66418\n",
       "16  32.9  116.4  20200208000000  277.62732\n",
       "17  32.9  116.4  20200208030000   278.4676\n",
       "18  32.9  116.4  20200208060000  280.20276\n",
       "19  32.9  116.4  20200208090000  280.78165\n",
       "20  32.9  116.4  20200208120000  280.54352\n",
       "21  32.9  116.4  20200208150000   280.2078\n",
       "22  32.9  116.4  20200208180000   279.8474\n",
       "23  32.9  116.4  20200208210000  279.55054\n",
       "24  32.9  116.4  20200209000000   279.3105\n",
       "25  32.9  116.4  20200209060000  283.90228\n",
       "26  32.9  116.4  20200209120000   285.1189"
      ]
     },
     "execution_count": 39,
     "metadata": {},
     "output_type": "execute_result"
    }
   ],
   "source": [
    "pd.DataFrame(data)"
   ]
  },
  {
   "cell_type": "code",
   "execution_count": 1,
   "metadata": {},
   "outputs": [],
   "source": [
    "%matplotlib inline\n",
    "import matplotlib.pyplot as plt\n",
    "import pandas as pd\n",
    "import xarray as xr\n",
    "from nmc_met_io.retrieve_cimiss_server import cimiss_model_by_piont_levels"
   ]
  },
  {
   "cell_type": "code",
   "execution_count": 6,
   "metadata": {},
   "outputs": [
    {
     "name": "stdout",
     "output_type": "stream",
     "text": [
      "CPU times: user 697 ms, sys: 7.67 ms, total: 704 ms\n",
      "Wall time: 1min 32s\n"
     ]
    }
   ],
   "source": [
    "%%time\n",
    "fcst_levels=[1000, 950, 925, 900, 850, 800, 700, 600, 500, 400, 300, 250, 200]\n",
    "time_range = [0, 120]\n",
    "point = \"32.90/114.40\"\n",
    "temperature = cimiss_model_by_piont_levels(\"2020020600\", fcst_levels=fcst_levels, time_range=time_range, point=point, fcst_ele=\"TEM\")\n",
    "uwind = cimiss_model_by_piont_levels(\"2020020600\", fcst_levels=fcst_levels, time_range=time_range, point=point, fcst_ele=\"WIU\")\n",
    "vwind = cimiss_model_by_piont_levels(\"2020020600\", fcst_levels=fcst_levels, time_range=time_range, point=point, fcst_ele=\"WIV\")\n",
    "rhu = cimiss_model_by_piont_levels(\"2020020600\", fcst_levels=fcst_levels, time_range=time_range, point=point, fcst_ele=\"RHU\")"
   ]
  },
  {
   "cell_type": "code",
   "execution_count": 3,
   "metadata": {},
   "outputs": [
    {
     "data": {
      "text/plain": [
       "<matplotlib.collections.QuadMesh at 0x7faa69cdefd0>"
      ]
     },
     "execution_count": 3,
     "metadata": {},
     "output_type": "execute_result"
    },
    {
     "data": {
      "image/png": "[encoded data removed]",
      "text/plain": [
       "<Figure size 432x288 with 2 Axes>"
      ]
     },
     "metadata": {
      "needs_background": "light"
     },
     "output_type": "display_data"
    }
   ],
   "source": [
    "temperature.plot(x=\"time\", y=\"level\")"
   ]
  },
  {
   "cell_type": "code",
   "execution_count": 4,
   "metadata": {},
   "outputs": [
    {
     "data": {
      "text/html": [
       "<pre>&lt;xarray.DataArray &#x27;TEM&#x27; (time: 27, level: 13)&gt;\n",
       "array([[263.8233 , 262.64276, 261.9038 , 260.7968 , 258.06448, 263.74945,\n",
       "        258.45642, 251.53233, 241.94682, 229.93375, 219.48846, 217.68265,\n",
       "        218.89677],\n",
       "       [264.91504, 262.68018, 261.88614, 260.91492, 259.3186 , 263.85794,\n",
       "        258.7077 , 251.80583, 242.0238 , 229.93423, 219.77937, 216.13647,\n",
       "        219.01935],\n",
       "       [266.88837, 263.1657 , 262.1723 , 261.37817, 263.14276, 264.36057,\n",
       "        258.8974 , 252.26547, 241.88982, 231.14833, 217.91379, 216.38295,\n",
       "        218.76479],\n",
       "       [267.8075 , 264.85162, 263.57538, 262.72726, 264.99158, 264.4099 ,\n",
       "        259.89874, 252.51857, 242.31119, 231.75558, 217.81389, 216.06998,\n",
       "        218.62843],\n",
       "       [267.87582, 266.2129 , 264.84097, 264.21143, 265.76273, 264.32727,\n",
       "        260.05908, 252.26091, 243.1597 , 231.80922, 217.21323, 215.45015,\n",
       "        219.29735],\n",
       "       [267.7066 , 266.32816, 264.94354, 266.01807, 267.16132, 264.91483,\n",
       "        259.51788, 251.47481, 243.79732, 231.84975, 217.04498, 214.42744,\n",
       "        220.2671 ],\n",
       "       [267.4545 , 266.2224 , 266.51428, 268.3579 , 267.8163 , 265.39795,\n",
       "        258.92902, 250.90523, 243.77065, 231.88841, 216.93843, 213.60007,\n",
       "        220.41576],\n",
       "       [267.0279 , 266.95026, 267.7138 , 268.30084, 267.75116, 265.59082,\n",
       "        258.93622, 251.18744, 243.2605 , 231.16946, 217.16454, 215.55777,\n",
       "        220.60014],\n",
       "       [267.20398, 268.33646, 268.50644, 268.3578 , 267.45795, 265.57288,\n",
       "        258.79974, 251.19116, 242.91776, 230.67987, 217.82135, 216.61823,\n",
       "        220.8262 ],\n",
       "       [268.72815, 269.69455, 269.37115, 268.83557, 267.64792, 265.55518,\n",
       "        258.49094, 251.14641, 242.94655, 230.48781, 218.44485, 217.98036,\n",
       "        220.99136],\n",
       "       [273.38287, 271.1619 , 271.10538, 270.67047, 268.97656, 266.2631 ,\n",
       "        258.43146, 251.16722, 242.83209, 230.5163 , 218.32625, 218.69864,\n",
       "        221.32698],\n",
       "       [274.64297, 272.87915, 272.92816, 272.48294, 269.77573, 266.08093,\n",
       "        258.72266, 251.23946, 242.66814, 230.79022, 218.47284, 218.32628,\n",
       "        221.47559],\n",
       "       [274.1031 , 274.24792, 273.9591 , 273.10538, 269.48596, 265.60596,\n",
       "        258.1611 , 251.91904, 242.39793, 230.67044, 218.96428, 217.99277,\n",
       "        221.41559],\n",
       "       [273.90543, 275.1281 , 274.06677, 272.44025, 268.94678, 265.55847,\n",
       "        257.97736, 252.64818, 242.01752, 230.58589, 218.94432, 217.05441,\n",
       "        220.8126 ],\n",
       "       [274.22925, 274.08585, 272.84296, 271.55893, 268.6146 , 265.39618,\n",
       "        259.04034, 252.72401, 242.18124, 230.71646, 218.76956, 216.23735,\n",
       "        220.27837],\n",
       "       [273.82043, 273.2165 , 272.00476, 270.89844, 268.24612, 265.14224,\n",
       "        260.37265, 252.96944, 242.61198, 231.15044, 218.57811, 215.39949,\n",
       "        219.50705],\n",
       "       [272.97107, 272.87485, 271.75784, 270.76917, 268.04077, 265.201  ,\n",
       "        261.3734 , 253.07689, 243.0642 , 231.29501, 218.21841, 215.58182,\n",
       "        219.43788],\n",
       "       [273.2176 , 273.09705, 272.24774, 270.9646 , 267.92203, 264.8426 ,\n",
       "        260.67078, 252.89233, 242.61548, 230.23543, 219.07254, 217.00021,\n",
       "        219.4175 ],\n",
       "       [276.95276, 274.4817 , 273.49884, 272.1964 , 269.0863 , 265.7353 ,\n",
       "        259.72076, 252.66624, 241.83176, 229.43604, 220.14458, 218.13716,\n",
       "        218.80904],\n",
       "       [277.5004 , 275.93884, 274.82208, 273.4953 , 270.35693, 266.40863,\n",
       "        259.71838, 252.87857, 242.4461 , 229.94208, 218.58476, 217.46324,\n",
       "        219.22818],\n",
       "       [276.94977, 275.8906 , 275.69434, 274.41278, 270.98383, 266.79868,\n",
       "        259.6302 , 252.96297, 242.64221, 231.07837, 219.26062, 214.49426,\n",
       "        218.74942],\n",
       "       [275.61404, 274.67874, 274.6798 , 274.497  , 271.199  , 267.40622,\n",
       "        259.48   , 252.64163, 243.4228 , 231.46153, 217.88437, 214.42407,\n",
       "        217.77576],\n",
       "       [273.80054, 275.42877, 275.59814, 274.8513 , 271.57724, 267.54877,\n",
       "        259.3683 , 254.2949 , 243.84767, 232.81688, 217.07835, 213.42157,\n",
       "        217.95366],\n",
       "       [272.6599 , 276.48383, 276.16217, 274.94397, 271.44763, 267.89075,\n",
       "        261.0255 , 254.96678, 245.20662, 232.59972, 216.60913, 213.36317,\n",
       "        218.26881],\n",
       "       [273.5761 , 277.44955, 276.27658, 274.7882 , 271.69376, 268.8147 ,\n",
       "        262.47614, 255.69623, 245.70181, 233.39804, 218.51727, 211.26437,\n",
       "        216.19234],\n",
       "       [281.43353, 279.58966, 278.23892, 276.50726, 273.549  , 271.00122,\n",
       "        264.976  , 257.9671 , 248.13162, 234.59302, 217.70204, 210.09106,\n",
       "        214.47182],\n",
       "       [280.19702, 282.77087, 280.9309 , 279.06494, 274.8902 , 270.68164,\n",
       "        265.07513, 259.41803, 248.89552, 235.43588, 219.31831, 212.29474,\n",
       "        213.09209]])\n",
       "Coordinates:\n",
       "  * time     (time) datetime64[ns] 2020-02-06 ... 2020-02-09T12:00:00\n",
       "  * level    (level) int64 1000 950 925 900 850 800 700 600 500 400 300 250 200</pre>"
      ],
      "text/plain": [
       "<xarray.DataArray 'TEM' (time: 27, level: 13)>\n",
       "array([[263.8233 , 262.64276, 261.9038 , 260.7968 , 258.06448, 263.74945,\n",
       "        258.45642, 251.53233, 241.94682, 229.93375, 219.48846, 217.68265,\n",
       "        218.89677],\n",
       "       [264.91504, 262.68018, 261.88614, 260.91492, 259.3186 , 263.85794,\n",
       "        258.7077 , 251.80583, 242.0238 , 229.93423, 219.77937, 216.13647,\n",
       "        219.01935],\n",
       "       [266.88837, 263.1657 , 262.1723 , 261.37817, 263.14276, 264.36057,\n",
       "        258.8974 , 252.26547, 241.88982, 231.14833, 217.91379, 216.38295,\n",
       "        218.76479],\n",
       "       [267.8075 , 264.85162, 263.57538, 262.72726, 264.99158, 264.4099 ,\n",
       "        259.89874, 252.51857, 242.31119, 231.75558, 217.81389, 216.06998,\n",
       "        218.62843],\n",
       "       [267.87582, 266.2129 , 264.84097, 264.21143, 265.76273, 264.32727,\n",
       "        260.05908, 252.26091, 243.1597 , 231.80922, 217.21323, 215.45015,\n",
       "        219.29735],\n",
       "       [267.7066 , 266.32816, 264.94354, 266.01807, 267.16132, 264.91483,\n",
       "        259.51788, 251.47481, 243.79732, 231.84975, 217.04498, 214.42744,\n",
       "        220.2671 ],\n",
       "       [267.4545 , 266.2224 , 266.51428, 268.3579 , 267.8163 , 265.39795,\n",
       "        258.92902, 250.90523, 243.77065, 231.88841, 216.93843, 213.60007,\n",
       "        220.41576],\n",
       "       [267.0279 , 266.95026, 267.7138 , 268.30084, 267.75116, 265.59082,\n",
       "        258.93622, 251.18744, 243.2605 , 231.16946, 217.16454, 215.55777,\n",
       "        220.60014],\n",
       "       [267.20398, 268.33646, 268.50644, 268.3578 , 267.45795, 265.57288,\n",
       "        258.79974, 251.19116, 242.91776, 230.67987, 217.82135, 216.61823,\n",
       "        220.8262 ],\n",
       "       [268.72815, 269.69455, 269.37115, 268.83557, 267.64792, 265.55518,\n",
       "        258.49094, 251.14641, 242.94655, 230.48781, 218.44485, 217.98036,\n",
       "        220.99136],\n",
       "       [273.38287, 271.1619 , 271.10538, 270.67047, 268.97656, 266.2631 ,\n",
       "        258.43146, 251.16722, 242.83209, 230.5163 , 218.32625, 218.69864,\n",
       "        221.32698],\n",
       "       [274.64297, 272.87915, 272.92816, 272.48294, 269.77573, 266.08093,\n",
       "        258.72266, 251.23946, 242.66814, 230.79022, 218.47284, 218.32628,\n",
       "        221.47559],\n",
       "       [274.1031 , 274.24792, 273.9591 , 273.10538, 269.48596, 265.60596,\n",
       "        258.1611 , 251.91904, 242.39793, 230.67044, 218.96428, 217.99277,\n",
       "        221.41559],\n",
       "       [273.90543, 275.1281 , 274.06677, 272.44025, 268.94678, 265.55847,\n",
       "        257.97736, 252.64818, 242.01752, 230.58589, 218.94432, 217.05441,\n",
       "        220.8126 ],\n",
       "       [274.22925, 274.08585, 272.84296, 271.55893, 268.6146 , 265.39618,\n",
       "        259.04034, 252.72401, 242.18124, 230.71646, 218.76956, 216.23735,\n",
       "        220.27837],\n",
       "       [273.82043, 273.2165 , 272.00476, 270.89844, 268.24612, 265.14224,\n",
       "        260.37265, 252.96944, 242.61198, 231.15044, 218.57811, 215.39949,\n",
       "        219.50705],\n",
       "       [272.97107, 272.87485, 271.75784, 270.76917, 268.04077, 265.201  ,\n",
       "        261.3734 , 253.07689, 243.0642 , 231.29501, 218.21841, 215.58182,\n",
       "        219.43788],\n",
       "       [273.2176 , 273.09705, 272.24774, 270.9646 , 267.92203, 264.8426 ,\n",
       "        260.67078, 252.89233, 242.61548, 230.23543, 219.07254, 217.00021,\n",
       "        219.4175 ],\n",
       "       [276.95276, 274.4817 , 273.49884, 272.1964 , 269.0863 , 265.7353 ,\n",
       "        259.72076, 252.66624, 241.83176, 229.43604, 220.14458, 218.13716,\n",
       "        218.80904],\n",
       "       [277.5004 , 275.93884, 274.82208, 273.4953 , 270.35693, 266.40863,\n",
       "        259.71838, 252.87857, 242.4461 , 229.94208, 218.58476, 217.46324,\n",
       "        219.22818],\n",
       "       [276.94977, 275.8906 , 275.69434, 274.41278, 270.98383, 266.79868,\n",
       "        259.6302 , 252.96297, 242.64221, 231.07837, 219.26062, 214.49426,\n",
       "        218.74942],\n",
       "       [275.61404, 274.67874, 274.6798 , 274.497  , 271.199  , 267.40622,\n",
       "        259.48   , 252.64163, 243.4228 , 231.46153, 217.88437, 214.42407,\n",
       "        217.77576],\n",
       "       [273.80054, 275.42877, 275.59814, 274.8513 , 271.57724, 267.54877,\n",
       "        259.3683 , 254.2949 , 243.84767, 232.81688, 217.07835, 213.42157,\n",
       "        217.95366],\n",
       "       [272.6599 , 276.48383, 276.16217, 274.94397, 271.44763, 267.89075,\n",
       "        261.0255 , 254.96678, 245.20662, 232.59972, 216.60913, 213.36317,\n",
       "        218.26881],\n",
       "       [273.5761 , 277.44955, 276.27658, 274.7882 , 271.69376, 268.8147 ,\n",
       "        262.47614, 255.69623, 245.70181, 233.39804, 218.51727, 211.26437,\n",
       "        216.19234],\n",
       "       [281.43353, 279.58966, 278.23892, 276.50726, 273.549  , 271.00122,\n",
       "        264.976  , 257.9671 , 248.13162, 234.59302, 217.70204, 210.09106,\n",
       "        214.47182],\n",
       "       [280.19702, 282.77087, 280.9309 , 279.06494, 274.8902 , 270.68164,\n",
       "        265.07513, 259.41803, 248.89552, 235.43588, 219.31831, 212.29474,\n",
       "        213.09209]])\n",
       "Coordinates:\n",
       "  * time     (time) datetime64[ns] 2020-02-06 ... 2020-02-09T12:00:00\n",
       "  * level    (level) int64 1000 950 925 900 850 800 700 600 500 400 300 250 200"
      ]
     },
     "execution_count": 4,
     "metadata": {},
     "output_type": "execute_result"
    }
   ],
   "source": [
    "temperature"
   ]
  },
  {
   "cell_type": "code",
   "execution_count": 21,
   "metadata": {},
   "outputs": [],
   "source": [
    "from nmc_met_io.config import get_config_dir"
   ]
  },
  {
   "cell_type": "code",
   "execution_count": 22,
   "metadata": {},
   "outputs": [],
   "source": [
    "rc = get_config_dir() / \"config.ini\""
   ]
  },
  {
   "cell_type": "code",
   "execution_count": 24,
   "metadata": {},
   "outputs": [
    {
     "name": "stdout",
     "output_type": "stream",
     "text": [
      "/home/kan-dai/.nmcdev/config.ini\n"
     ]
    }
   ],
   "source": [
    "print(rc)"
   ]
  },
  {
   "cell_type": "code",
   "execution_count": 27,
   "metadata": {},
   "outputs": [
    {
     "name": "stdout",
     "output_type": "stream",
     "text": [
      "Week #6 of year 2020\n",
      "CPU times: user 121 µs, sys: 19 µs, total: 140 µs\n",
      "Wall time: 91.8 µs\n"
     ]
    }
   ],
   "source": [
    "%%time\n",
    "from datetime import datetime, timedelta, date\n",
    "my_date = date.today() # if date is 01/01/2018\n",
    "year, week_num, day_of_week = my_date.isocalendar()\n",
    "print(\"Week #\" + str(week_num) + \" of year \" + str(year))"
   ]
  },
  {
   "cell_type": "code",
   "execution_count": 34,
   "metadata": {},
   "outputs": [
    {
     "data": {
      "text/plain": [
       "PosixPath('/home/kan-dai/.nmcdev/cache/202005')"
      ]
     },
     "execution_count": 34,
     "metadata": {},
     "output_type": "execute_result"
    }
   ],
   "source": [
    "get_config_dir() / \"cache\" / date.today().strftime(\"%Y%U\")"
   ]
  },
  {
   "cell_type": "code",
   "execution_count": 1,
   "metadata": {},
   "outputs": [],
   "source": [
    "import numpy as np\n",
    "from nmc_met_io.retrieve_micaps_server import get_model_grid, get_model_3D_grids"
   ]
  },
  {
   "cell_type": "code",
   "execution_count": 2,
   "metadata": {},
   "outputs": [
    {
     "name": "stderr",
     "output_type": "stream",
     "text": [
      "Get data: 100%|██████████| 25/25 [00:12<00:00,  1.99it/s]"
     ]
    },
    {
     "name": "stdout",
     "output_type": "stream",
     "text": [
      "CPU times: user 2.35 s, sys: 468 ms, total: 2.81 s\n",
      "Wall time: 12.6 s\n"
     ]
    },
    {
     "name": "stderr",
     "output_type": "stream",
     "text": [
      "\n"
     ]
    }
   ],
   "source": [
    "%%time\n",
    "directory = \"ECMWF_HR/TMP\"\n",
    "levels = [1000, 950, 925, 900, 850, 800, 700, 600, 500, 400, 300, 250, 200, 100]\n",
    "fhours = np.arange(0, 75, 3)\n",
    "filenames = [\"20020620.\"+str(fhour).zfill(3) for fhour in fhours]\n",
    "data = get_model_3D_grids(directory, filenames, levels)"
   ]
  },
  {
   "cell_type": "code",
   "execution_count": 4,
   "metadata": {},
   "outputs": [
    {
     "name": "stdout",
     "output_type": "stream",
     "text": [
      "CPU times: user 352 ms, sys: 42.9 ms, total: 395 ms\n",
      "Wall time: 394 ms\n"
     ]
    }
   ],
   "source": [
    "%%time\n",
    "directory = \"ECMWF_HR/TMP\"\n",
    "levels = [1000, 950, 925, 900, 850, 800, 700, 600, 500, 400, 300, 250, 200, 100]\n",
    "fhours = np.arange(0, 75, 3)\n",
    "filenames = [\"20020620.\"+str(fhour).zfill(3) for fhour in fhours]\n",
    "data = get_model_3D_grids(directory, filenames, levels, pbar=False)"
   ]
  },
  {
   "cell_type": "code",
   "execution_count": 4,
   "metadata": {},
   "outputs": [],
   "source": [
    "from nmc_met_io.retrieve_micaps_server import get_model_3D_grids, get_model_vertical_times"
   ]
  },
  {
   "cell_type": "code",
   "execution_count": 2,
   "metadata": {},
   "outputs": [
    {
     "name": "stderr",
     "output_type": "stream",
     "text": [
      "Get data: 100%|██████████| 1/1 [00:00<00:00,  2.44it/s]\n"
     ]
    }
   ],
   "source": [
    "directory = \"ECMWF_HR/TMP\"\n",
    "levels = [1000, 950, 925, 900, 850, 800, 700, 600, 500, 400, 300, 250, 200, 100]\n",
    "filenames = [\"20021320.024\"]\n",
    "data =  get_model_3D_grids(directory, filenames, levels)"
   ]
  },
  {
   "cell_type": "code",
   "execution_count": 5,
   "metadata": {},
   "outputs": [
    {
     "name": "stderr",
     "output_type": "stream",
     "text": [
      "Get data: 100%|██████████| 1/1 [00:00<00:00, 52.48it/s]\n"
     ]
    }
   ],
   "source": [
    "points = {'lon':[116.3833, 110.0], 'lat':[39.9, 32]}\n",
    "data = get_model_vertical_times(directory, filenames, levels, points)"
   ]
  },
  {
   "cell_type": "code",
   "execution_count": 6,
   "metadata": {},
   "outputs": [
    {
     "data": {
      "text/html": [
       "<pre>&lt;xarray.Dataset&gt;\n",
       "Dimensions:                  (level: 14, points: 2, time: 1)\n",
       "Coordinates:\n",
       "    forecast_reference_time  datetime64[ns] 2020-02-13T20:00:00\n",
       "  * level                    (level) float64 1e+03 950.0 925.0 ... 200.0 100.0\n",
       "    forecast_period          (time) float64 24.0\n",
       "  * time                     (time) datetime64[ns] 2020-02-14T20:00:00\n",
       "    lon                      (points) float64 116.4 110.0\n",
       "    lat                      (points) float64 39.9 32.0\n",
       "Dimensions without coordinates: points\n",
       "Data variables:\n",
       "    data                     (time, level, points) float64 -1.855 ... -59.14\n",
       "Attributes:\n",
       "    Conventions:  CF-1.6\n",
       "    Origin:       MICAPS Cassandra Server</pre>"
      ],
      "text/plain": [
       "<xarray.Dataset>\n",
       "Dimensions:                  (level: 14, points: 2, time: 1)\n",
       "Coordinates:\n",
       "    forecast_reference_time  datetime64[ns] 2020-02-13T20:00:00\n",
       "  * level                    (level) float64 1e+03 950.0 925.0 ... 200.0 100.0\n",
       "    forecast_period          (time) float64 24.0\n",
       "  * time                     (time) datetime64[ns] 2020-02-14T20:00:00\n",
       "    lon                      (points) float64 116.4 110.0\n",
       "    lat                      (points) float64 39.9 32.0\n",
       "Dimensions without coordinates: points\n",
       "Data variables:\n",
       "    data                     (time, level, points) float64 -1.855 ... -59.14\n",
       "Attributes:\n",
       "    Conventions:  CF-1.6\n",
       "    Origin:       MICAPS Cassandra Server"
      ]
     },
     "execution_count": 6,
     "metadata": {},
     "output_type": "execute_result"
    }
   ],
   "source": [
    "data"
   ]
  },
  {
   "cell_type": "code",
   "execution_count": 2,
   "metadata": {},
   "outputs": [],
   "source": [
    "import xarray as xr\n",
    "import numpy as np\n",
    "import pandas as pd\n",
    "from nmc_met_io.retrieve_micaps_server import get_fy_awx"
   ]
  },
  {
   "cell_type": "code",
   "execution_count": 3,
   "metadata": {},
   "outputs": [],
   "source": [
    "directory = \"SATELLITE/FY2F/L1/IR1/LAMBERT\"\n",
    "data= get_fy_awx(directory)"
   ]
  },
  {
   "cell_type": "code",
   "execution_count": 4,
   "metadata": {},
   "outputs": [
    {
     "data": {
      "text/html": [
       "<pre>&lt;xarray.Dataset&gt;\n",
       "Dimensions:  (lat: 1500, lon: 2000, time: 1)\n",
       "Coordinates:\n",
       "  * time     (time) datetime64[ns] 2020-02-14T12:00:00\n",
       "  * lat      (lat) float64 69.97 69.92 69.87 69.82 ... -4.83 -4.88 -4.93 -4.98\n",
       "  * lon      (lon) float64 50.02 50.07 50.12 50.17 ... 149.8 149.9 149.9 150.0\n",
       "Data variables:\n",
       "    image    (time, lat, lon) uint8 234 234 235 235 235 ... 212 213 213 213 213\n",
       "Attributes:\n",
       "    Conventions:  CF-1.6\n",
       "    Origin:       MICAPS Cassandra Server</pre>"
      ],
      "text/plain": [
       "<xarray.Dataset>\n",
       "Dimensions:  (lat: 1500, lon: 2000, time: 1)\n",
       "Coordinates:\n",
       "  * time     (time) datetime64[ns] 2020-02-14T12:00:00\n",
       "  * lat      (lat) float64 69.97 69.92 69.87 69.82 ... -4.83 -4.88 -4.93 -4.98\n",
       "  * lon      (lon) float64 50.02 50.07 50.12 50.17 ... 149.8 149.9 149.9 150.0\n",
       "Data variables:\n",
       "    image    (time, lat, lon) uint8 234 234 235 235 235 ... 212 213 213 213 213\n",
       "Attributes:\n",
       "    Conventions:  CF-1.6\n",
       "    Origin:       MICAPS Cassandra Server"
      ]
     },
     "execution_count": 4,
     "metadata": {},
     "output_type": "execute_result"
    }
   ],
   "source": [
    "data"
   ]
  },
  {
   "cell_type": "code",
   "execution_count": 5,
   "metadata": {},
   "outputs": [
    {
     "data": {
      "text/plain": [
       "<matplotlib.collections.QuadMesh at 0x7fa901dd0f90>"
      ]
     },
     "execution_count": 5,
     "metadata": {},
     "output_type": "execute_result"
    },
    {
     "data": {
      "image/png": "[encoded data removed]",
      "text/plain": [
       "<Figure size 432x288 with 2 Axes>"
      ]
     },
     "metadata": {
      "needs_background": "light"
     },
     "output_type": "display_data"
    }
   ],
   "source": [
    "data.image.plot()"
   ]
  },
  {
   "cell_type": "code",
   "execution_count": null,
   "metadata": {},
   "outputs": [],
   "source": []
  },
  {
   "cell_type": "code",
   "execution_count": 7,
   "metadata": {},
   "outputs": [
    {
     "data": {
      "text/html": [
       "<div>\n",
       "<style scoped>\n",
       "    .dataframe tbody tr th:only-of-type {\n",
       "        vertical-align: middle;\n",
       "    }\n",
       "\n",
       "    .dataframe tbody tr th {\n",
       "        vertical-align: top;\n",
       "    }\n",
       "\n",
       "    .dataframe thead th {\n",
       "        text-align: right;\n",
       "    }\n",
       "</style>\n",
       "<table border=\"1\" class=\"dataframe\">\n",
       "  <thead>\n",
       "    <tr style=\"text-align: right;\">\n",
       "      <th></th>\n",
       "      <th>0</th>\n",
       "    </tr>\n",
       "  </thead>\n",
       "  <tbody>\n",
       "    <tr>\n",
       "      <td>SAT96</td>\n",
       "      <td>b'EIEF1460.AWX'</td>\n",
       "    </tr>\n",
       "    <tr>\n",
       "      <td>byteSequence</td>\n",
       "      <td>0</td>\n",
       "    </tr>\n",
       "    <tr>\n",
       "      <td>firstClassHeadLength</td>\n",
       "      <td>40</td>\n",
       "    </tr>\n",
       "    <tr>\n",
       "      <td>secondClassHeadLength</td>\n",
       "      <td>2112</td>\n",
       "    </tr>\n",
       "    <tr>\n",
       "      <td>padDataLength</td>\n",
       "      <td>1848</td>\n",
       "    </tr>\n",
       "    <tr>\n",
       "      <td>recordLength</td>\n",
       "      <td>2000</td>\n",
       "    </tr>\n",
       "    <tr>\n",
       "      <td>headRecordNumber</td>\n",
       "      <td>3</td>\n",
       "    </tr>\n",
       "    <tr>\n",
       "      <td>dataRecordNumber</td>\n",
       "      <td>1500</td>\n",
       "    </tr>\n",
       "    <tr>\n",
       "      <td>productCategory</td>\n",
       "      <td>1</td>\n",
       "    </tr>\n",
       "    <tr>\n",
       "      <td>compressMethod</td>\n",
       "      <td>0</td>\n",
       "    </tr>\n",
       "    <tr>\n",
       "      <td>formatString</td>\n",
       "      <td>b'SAT2004'</td>\n",
       "    </tr>\n",
       "    <tr>\n",
       "      <td>qualityFlag</td>\n",
       "      <td>0</td>\n",
       "    </tr>\n",
       "    <tr>\n",
       "      <td>satelliteName</td>\n",
       "      <td>b'FY2F'</td>\n",
       "    </tr>\n",
       "    <tr>\n",
       "      <td>year</td>\n",
       "      <td>2020</td>\n",
       "    </tr>\n",
       "    <tr>\n",
       "      <td>month</td>\n",
       "      <td>2</td>\n",
       "    </tr>\n",
       "    <tr>\n",
       "      <td>day</td>\n",
       "      <td>14</td>\n",
       "    </tr>\n",
       "    <tr>\n",
       "      <td>hour</td>\n",
       "      <td>6</td>\n",
       "    </tr>\n",
       "    <tr>\n",
       "      <td>minute</td>\n",
       "      <td>0</td>\n",
       "    </tr>\n",
       "    <tr>\n",
       "      <td>channel</td>\n",
       "      <td>1</td>\n",
       "    </tr>\n",
       "    <tr>\n",
       "      <td>flagOfProjection</td>\n",
       "      <td>4</td>\n",
       "    </tr>\n",
       "    <tr>\n",
       "      <td>widthOfImage</td>\n",
       "      <td>2000</td>\n",
       "    </tr>\n",
       "    <tr>\n",
       "      <td>heightOfImage</td>\n",
       "      <td>1500</td>\n",
       "    </tr>\n",
       "    <tr>\n",
       "      <td>scanLineNumberOfImageTopLeft</td>\n",
       "      <td>0</td>\n",
       "    </tr>\n",
       "    <tr>\n",
       "      <td>pixelNumberOfImageTopLeft</td>\n",
       "      <td>0</td>\n",
       "    </tr>\n",
       "    <tr>\n",
       "      <td>sampleRatio</td>\n",
       "      <td>1</td>\n",
       "    </tr>\n",
       "    <tr>\n",
       "      <td>latitudeOfNorth</td>\n",
       "      <td>6997</td>\n",
       "    </tr>\n",
       "    <tr>\n",
       "      <td>latitudeOfSouth</td>\n",
       "      <td>-496</td>\n",
       "    </tr>\n",
       "    <tr>\n",
       "      <td>longitudeOfWest</td>\n",
       "      <td>5002</td>\n",
       "    </tr>\n",
       "    <tr>\n",
       "      <td>longitudeOfEast</td>\n",
       "      <td>14997</td>\n",
       "    </tr>\n",
       "    <tr>\n",
       "      <td>centerLatitudeOfProjection</td>\n",
       "      <td>3250</td>\n",
       "    </tr>\n",
       "    <tr>\n",
       "      <td>centerLongitudeOfProjection</td>\n",
       "      <td>10000</td>\n",
       "    </tr>\n",
       "    <tr>\n",
       "      <td>standardLatitude1</td>\n",
       "      <td>3000</td>\n",
       "    </tr>\n",
       "    <tr>\n",
       "      <td>standardLatitude2</td>\n",
       "      <td>6000</td>\n",
       "    </tr>\n",
       "    <tr>\n",
       "      <td>horizontalResolution</td>\n",
       "      <td>5</td>\n",
       "    </tr>\n",
       "    <tr>\n",
       "      <td>verticalResolution</td>\n",
       "      <td>5</td>\n",
       "    </tr>\n",
       "    <tr>\n",
       "      <td>overlapFlagGeoGrid</td>\n",
       "      <td>0</td>\n",
       "    </tr>\n",
       "    <tr>\n",
       "      <td>overlapValueGeoGrid</td>\n",
       "      <td>255</td>\n",
       "    </tr>\n",
       "    <tr>\n",
       "      <td>dataLengthOfColorTable</td>\n",
       "      <td>0</td>\n",
       "    </tr>\n",
       "    <tr>\n",
       "      <td>dataLengthOfCalibration</td>\n",
       "      <td>2048</td>\n",
       "    </tr>\n",
       "    <tr>\n",
       "      <td>dataLengthOfGeolocation</td>\n",
       "      <td>0</td>\n",
       "    </tr>\n",
       "    <tr>\n",
       "      <td>reserved</td>\n",
       "      <td>0</td>\n",
       "    </tr>\n",
       "  </tbody>\n",
       "</table>\n",
       "</div>"
      ],
      "text/plain": [
       "                                            0\n",
       "SAT96                         b'EIEF1460.AWX'\n",
       "byteSequence                                0\n",
       "firstClassHeadLength                       40\n",
       "secondClassHeadLength                    2112\n",
       "padDataLength                            1848\n",
       "recordLength                             2000\n",
       "headRecordNumber                            3\n",
       "dataRecordNumber                         1500\n",
       "productCategory                             1\n",
       "compressMethod                              0\n",
       "formatString                       b'SAT2004'\n",
       "qualityFlag                                 0\n",
       "satelliteName                         b'FY2F'\n",
       "year                                     2020\n",
       "month                                       2\n",
       "day                                        14\n",
       "hour                                        6\n",
       "minute                                      0\n",
       "channel                                     1\n",
       "flagOfProjection                            4\n",
       "widthOfImage                             2000\n",
       "heightOfImage                            1500\n",
       "scanLineNumberOfImageTopLeft                0\n",
       "pixelNumberOfImageTopLeft                   0\n",
       "sampleRatio                                 1\n",
       "latitudeOfNorth                          6997\n",
       "latitudeOfSouth                          -496\n",
       "longitudeOfWest                          5002\n",
       "longitudeOfEast                         14997\n",
       "centerLatitudeOfProjection               3250\n",
       "centerLongitudeOfProjection             10000\n",
       "standardLatitude1                        3000\n",
       "standardLatitude2                        6000\n",
       "horizontalResolution                        5\n",
       "verticalResolution                          5\n",
       "overlapFlagGeoGrid                          0\n",
       "overlapValueGeoGrid                       255\n",
       "dataLengthOfColorTable                      0\n",
       "dataLengthOfCalibration                  2048\n",
       "dataLengthOfGeolocation                     0\n",
       "reserved                                    0"
      ]
     },
     "execution_count": 7,
     "metadata": {},
     "output_type": "execute_result"
    }
   ],
   "source": [
    "pd.DataFrame(info).T"
   ]
  },
  {
   "cell_type": "code",
   "execution_count": 8,
   "metadata": {},
   "outputs": [
    {
     "ename": "TypeError",
     "evalue": "'numpy.ndarray' object is not callable",
     "output_type": "error",
     "traceback": [
      "\u001b[0;31m---------------------------------------------------------------------------\u001b[0m",
      "\u001b[0;31mTypeError\u001b[0m                                 Traceback (most recent call last)",
      "\u001b[0;32m<ipython-input-8-3adcdeac909e>\u001b[0m in \u001b[0;36m<module>\u001b[0;34m\u001b[0m\n\u001b[0;32m----> 1\u001b[0;31m \u001b[0minfo\u001b[0m\u001b[0;34m[\u001b[0m\u001b[0;34m'latitudeOfNorth'\u001b[0m\u001b[0;34m]\u001b[0m \u001b[0;34m-\u001b[0m \u001b[0minfo\u001b[0m\u001b[0;34m(\u001b[0m\u001b[0;34m'latitudeOfSouth'\u001b[0m\u001b[0;34m)\u001b[0m\u001b[0;34m\u001b[0m\u001b[0;34m\u001b[0m\u001b[0m\n\u001b[0m",
      "\u001b[0;31mTypeError\u001b[0m: 'numpy.ndarray' object is not callable"
     ]
    }
   ],
   "source": [
    "info['latitudeOfNorth'] - info('latitudeOfSouth')"
   ]
  },
  {
   "cell_type": "code",
   "execution_count": 24,
   "metadata": {},
   "outputs": [],
   "source": [
    "lat = (head_info['latitudeOfSouth'][0]/100. + \n",
    "       np.arange(head_info['heightOfImage'][0])*head_info['verticalResolution'][0]/100.)"
   ]
  },
  {
   "cell_type": "code",
   "execution_count": 4,
   "metadata": {},
   "outputs": [],
   "source": [
    "from tqdm import tqdm, tqdm_notebook       # <-- yes\n",
    "from time import sleep\n",
    "from IPython.display import clear_output"
   ]
  },
  {
   "cell_type": "code",
   "execution_count": 44,
   "metadata": {},
   "outputs": [
    {
     "name": "stdout",
     "output_type": "stream",
     "text": [
      "test\n"
     ]
    }
   ],
   "source": [
    "for i in tqdm(range(20)):  # <-- magic\n",
    "    for j in range(10):\n",
    "      sleep(0.01)\n",
    "for i in tqdm(range(20)):  # <-- magic\n",
    "    for j in range(10):\n",
    "      sleep(0.01)\n",
    "clear_output()\n",
    "print('test')"
   ]
  },
  {
   "cell_type": "code",
   "execution_count": 42,
   "metadata": {},
   "outputs": [
    {
     "name": "stdout",
     "output_type": "stream",
     "text": [
      "test\n"
     ]
    }
   ],
   "source": [
    "for i in tqdm_notebook(range(20)):  # <-- magic\n",
    "    for j in range(10):\n",
    "      sleep(0.01)\n",
    "for i in tqdm_notebook(range(20)):  # <-- magic\n",
    "    for j in range(10):\n",
    "      sleep(0.01)\n",
    "clear_output()\n",
    "print('test')"
   ]
  },
  {
   "cell_type": "code",
   "execution_count": 14,
   "metadata": {},
   "outputs": [],
   "source": [
    "from nmc_met_io.retrieve_micaps_server import get_radar_mosaic"
   ]
  },
  {
   "cell_type": "code",
   "execution_count": 15,
   "metadata": {},
   "outputs": [],
   "source": [
    "data = get_radar_mosaic(\"RADARMOSAIC/CREF/\")"
   ]
  },
  {
   "cell_type": "code",
   "execution_count": 16,
   "metadata": {},
   "outputs": [
    {
     "data": {
      "text/html": [
       "<pre>&lt;xarray.Dataset&gt;\n",
       "Dimensions:  (lat: 4200, lon: 6200, time: 1)\n",
       "Coordinates:\n",
       "  * time     (time) datetime64[ns] 2020-02-16T09:42:00\n",
       "  * lat      (lat) float64 12.21 12.22 12.23 12.24 ... 54.17 54.18 54.19 54.2\n",
       "  * lon      (lon) float64 73.0 73.0 73.01 73.02 ... 135.0 135.0 135.0 135.0\n",
       "Data variables:\n",
       "    data     (time, lat, lon) float32 nan nan nan nan nan ... nan nan nan nan\n",
       "Attributes:\n",
       "    Conventions:  CF-1.6\n",
       "    Origin:       MICAPS Cassandra Server</pre>"
      ],
      "text/plain": [
       "<xarray.Dataset>\n",
       "Dimensions:  (lat: 4200, lon: 6200, time: 1)\n",
       "Coordinates:\n",
       "  * time     (time) datetime64[ns] 2020-02-16T09:42:00\n",
       "  * lat      (lat) float64 12.21 12.22 12.23 12.24 ... 54.17 54.18 54.19 54.2\n",
       "  * lon      (lon) float64 73.0 73.0 73.01 73.02 ... 135.0 135.0 135.0 135.0\n",
       "Data variables:\n",
       "    data     (time, lat, lon) float32 nan nan nan nan nan ... nan nan nan nan\n",
       "Attributes:\n",
       "    Conventions:  CF-1.6\n",
       "    Origin:       MICAPS Cassandra Server"
      ]
     },
     "execution_count": 16,
     "metadata": {},
     "output_type": "execute_result"
    }
   ],
   "source": [
    "data"
   ]
  },
  {
   "cell_type": "code",
   "execution_count": 18,
   "metadata": {},
   "outputs": [
    {
     "data": {
      "text/plain": [
       "<matplotlib.collections.QuadMesh at 0x7feff0f56490>"
      ]
     },
     "execution_count": 18,
     "metadata": {},
     "output_type": "execute_result"
    },
    {
     "data": {
      "image/png": "[encoded data removed]",
      "text/plain": [
       "<Figure size 432x288 with 2 Axes>"
      ]
     },
     "metadata": {
      "needs_background": "light"
     },
     "output_type": "display_data"
    }
   ],
   "source": [
    "data.data.plot(cmap='hsv')"
   ]
  },
  {
   "cell_type": "code",
   "execution_count": 3,
   "metadata": {},
   "outputs": [],
   "source": [
    "from nmc_met_io.retrieve_micaps_server import get_tlogp"
   ]
  },
  {
   "cell_type": "code",
   "execution_count": 4,
   "metadata": {},
   "outputs": [],
   "source": [
    "data = get_tlogp(\"UPPER_AIR/TLOGP/\")"
   ]
  },
  {
   "cell_type": "code",
   "execution_count": 5,
   "metadata": {},
   "outputs": [
    {
     "data": {
      "text/html": [
       "<div>\n",
       "<style scoped>\n",
       "    .dataframe tbody tr th:only-of-type {\n",
       "        vertical-align: middle;\n",
       "    }\n",
       "\n",
       "    .dataframe tbody tr th {\n",
       "        vertical-align: top;\n",
       "    }\n",
       "\n",
       "    .dataframe thead th {\n",
       "        text-align: right;\n",
       "    }\n",
       "</style>\n",
       "<table border=\"1\" class=\"dataframe\">\n",
       "  <thead>\n",
       "    <tr style=\"text-align: right;\">\n",
       "      <th></th>\n",
       "      <th>ID</th>\n",
       "      <th>lon</th>\n",
       "      <th>lat</th>\n",
       "      <th>alt</th>\n",
       "      <th>time</th>\n",
       "      <th>p</th>\n",
       "      <th>h</th>\n",
       "      <th>t</th>\n",
       "      <th>td</th>\n",
       "      <th>wind_angle</th>\n",
       "      <th>wind_speed</th>\n",
       "    </tr>\n",
       "  </thead>\n",
       "  <tbody>\n",
       "    <tr>\n",
       "      <td>0</td>\n",
       "      <td>64870</td>\n",
       "      <td>13.570</td>\n",
       "      <td>7.3500</td>\n",
       "      <td>1104.0</td>\n",
       "      <td>2020-02-15 14:00:00</td>\n",
       "      <td>850.0</td>\n",
       "      <td>9999.0</td>\n",
       "      <td>9999.0</td>\n",
       "      <td>9999.0</td>\n",
       "      <td>60.0</td>\n",
       "      <td>11.0</td>\n",
       "    </tr>\n",
       "    <tr>\n",
       "      <td>1</td>\n",
       "      <td>64870</td>\n",
       "      <td>13.570</td>\n",
       "      <td>7.3500</td>\n",
       "      <td>1104.0</td>\n",
       "      <td>2020-02-15 14:00:00</td>\n",
       "      <td>700.0</td>\n",
       "      <td>9999.0</td>\n",
       "      <td>9999.0</td>\n",
       "      <td>9999.0</td>\n",
       "      <td>160.0</td>\n",
       "      <td>6.0</td>\n",
       "    </tr>\n",
       "    <tr>\n",
       "      <td>2</td>\n",
       "      <td>43413</td>\n",
       "      <td>79.920</td>\n",
       "      <td>8.9800</td>\n",
       "      <td>3.0</td>\n",
       "      <td>2020-02-15 14:00:00</td>\n",
       "      <td>850.0</td>\n",
       "      <td>9999.0</td>\n",
       "      <td>9999.0</td>\n",
       "      <td>9999.0</td>\n",
       "      <td>30.0</td>\n",
       "      <td>6.0</td>\n",
       "    </tr>\n",
       "    <tr>\n",
       "      <td>3</td>\n",
       "      <td>48500</td>\n",
       "      <td>99.806</td>\n",
       "      <td>11.8343</td>\n",
       "      <td>4.0</td>\n",
       "      <td>2020-02-15 14:00:00</td>\n",
       "      <td>850.0</td>\n",
       "      <td>9999.0</td>\n",
       "      <td>9999.0</td>\n",
       "      <td>9999.0</td>\n",
       "      <td>180.0</td>\n",
       "      <td>8.0</td>\n",
       "    </tr>\n",
       "    <tr>\n",
       "      <td>4</td>\n",
       "      <td>48500</td>\n",
       "      <td>99.806</td>\n",
       "      <td>11.8343</td>\n",
       "      <td>4.0</td>\n",
       "      <td>2020-02-15 14:00:00</td>\n",
       "      <td>850.0</td>\n",
       "      <td>9999.0</td>\n",
       "      <td>9999.0</td>\n",
       "      <td>9999.0</td>\n",
       "      <td>180.0</td>\n",
       "      <td>3.0</td>\n",
       "    </tr>\n",
       "    <tr>\n",
       "      <td>...</td>\n",
       "      <td>...</td>\n",
       "      <td>...</td>\n",
       "      <td>...</td>\n",
       "      <td>...</td>\n",
       "      <td>...</td>\n",
       "      <td>...</td>\n",
       "      <td>...</td>\n",
       "      <td>...</td>\n",
       "      <td>...</td>\n",
       "      <td>...</td>\n",
       "      <td>...</td>\n",
       "    </tr>\n",
       "    <tr>\n",
       "      <td>716</td>\n",
       "      <td>15614</td>\n",
       "      <td>23.380</td>\n",
       "      <td>42.6500</td>\n",
       "      <td>591.0</td>\n",
       "      <td>2020-02-15 14:00:00</td>\n",
       "      <td>19.3</td>\n",
       "      <td>9999.0</td>\n",
       "      <td>9999.0</td>\n",
       "      <td>9999.0</td>\n",
       "      <td>245.0</td>\n",
       "      <td>13.0</td>\n",
       "    </tr>\n",
       "    <tr>\n",
       "      <td>717</td>\n",
       "      <td>15614</td>\n",
       "      <td>23.380</td>\n",
       "      <td>42.6500</td>\n",
       "      <td>591.0</td>\n",
       "      <td>2020-02-15 14:00:00</td>\n",
       "      <td>18.8</td>\n",
       "      <td>9999.0</td>\n",
       "      <td>9999.0</td>\n",
       "      <td>9999.0</td>\n",
       "      <td>240.0</td>\n",
       "      <td>14.0</td>\n",
       "    </tr>\n",
       "    <tr>\n",
       "      <td>718</td>\n",
       "      <td>15614</td>\n",
       "      <td>23.380</td>\n",
       "      <td>42.6500</td>\n",
       "      <td>591.0</td>\n",
       "      <td>2020-02-15 14:00:00</td>\n",
       "      <td>18.2</td>\n",
       "      <td>9999.0</td>\n",
       "      <td>-57.5</td>\n",
       "      <td>-90.5</td>\n",
       "      <td>9999.0</td>\n",
       "      <td>9999.0</td>\n",
       "    </tr>\n",
       "    <tr>\n",
       "      <td>719</td>\n",
       "      <td>15614</td>\n",
       "      <td>23.380</td>\n",
       "      <td>42.6500</td>\n",
       "      <td>591.0</td>\n",
       "      <td>2020-02-15 14:00:00</td>\n",
       "      <td>17.1</td>\n",
       "      <td>9999.0</td>\n",
       "      <td>-55.1</td>\n",
       "      <td>-91.1</td>\n",
       "      <td>9999.0</td>\n",
       "      <td>9999.0</td>\n",
       "    </tr>\n",
       "    <tr>\n",
       "      <td>720</td>\n",
       "      <td>15614</td>\n",
       "      <td>23.380</td>\n",
       "      <td>42.6500</td>\n",
       "      <td>591.0</td>\n",
       "      <td>2020-02-15 14:00:00</td>\n",
       "      <td>17.1</td>\n",
       "      <td>9999.0</td>\n",
       "      <td>9999.0</td>\n",
       "      <td>9999.0</td>\n",
       "      <td>280.0</td>\n",
       "      <td>17.0</td>\n",
       "    </tr>\n",
       "  </tbody>\n",
       "</table>\n",
       "<p>721 rows × 11 columns</p>\n",
       "</div>"
      ],
      "text/plain": [
       "        ID     lon      lat     alt                time      p       h  \\\n",
       "0    64870  13.570   7.3500  1104.0 2020-02-15 14:00:00  850.0  9999.0   \n",
       "1    64870  13.570   7.3500  1104.0 2020-02-15 14:00:00  700.0  9999.0   \n",
       "2    43413  79.920   8.9800     3.0 2020-02-15 14:00:00  850.0  9999.0   \n",
       "3    48500  99.806  11.8343     4.0 2020-02-15 14:00:00  850.0  9999.0   \n",
       "4    48500  99.806  11.8343     4.0 2020-02-15 14:00:00  850.0  9999.0   \n",
       "..     ...     ...      ...     ...                 ...    ...     ...   \n",
       "716  15614  23.380  42.6500   591.0 2020-02-15 14:00:00   19.3  9999.0   \n",
       "717  15614  23.380  42.6500   591.0 2020-02-15 14:00:00   18.8  9999.0   \n",
       "718  15614  23.380  42.6500   591.0 2020-02-15 14:00:00   18.2  9999.0   \n",
       "719  15614  23.380  42.6500   591.0 2020-02-15 14:00:00   17.1  9999.0   \n",
       "720  15614  23.380  42.6500   591.0 2020-02-15 14:00:00   17.1  9999.0   \n",
       "\n",
       "          t      td  wind_angle  wind_speed  \n",
       "0    9999.0  9999.0        60.0        11.0  \n",
       "1    9999.0  9999.0       160.0         6.0  \n",
       "2    9999.0  9999.0        30.0         6.0  \n",
       "3    9999.0  9999.0       180.0         8.0  \n",
       "4    9999.0  9999.0       180.0         3.0  \n",
       "..      ...     ...         ...         ...  \n",
       "716  9999.0  9999.0       245.0        13.0  \n",
       "717  9999.0  9999.0       240.0        14.0  \n",
       "718   -57.5   -90.5      9999.0      9999.0  \n",
       "719   -55.1   -91.1      9999.0      9999.0  \n",
       "720  9999.0  9999.0       280.0        17.0  \n",
       "\n",
       "[721 rows x 11 columns]"
      ]
     },
     "execution_count": 5,
     "metadata": {},
     "output_type": "execute_result"
    }
   ],
   "source": [
    "data"
   ]
  },
  {
   "cell_type": "code",
   "execution_count": 6,
   "metadata": {},
   "outputs": [],
   "source": [
    "longname = {'CREF': 'Composite Reflectivity', 'QREF': 'Basic Reflectivity',\n",
    "                        'VIL': 'Vertically Integrated Liquid', 'OHP': 'One Hour Precipitation'}"
   ]
  },
  {
   "cell_type": "code",
   "execution_count": 9,
   "metadata": {},
   "outputs": [
    {
     "data": {
      "text/plain": [
       "'TEST'"
      ]
     },
     "execution_count": 9,
     "metadata": {},
     "output_type": "execute_result"
    }
   ],
   "source": [
    "longname.get('CREF1', 'TEST')"
   ]
  },
  {
   "cell_type": "code",
   "execution_count": 25,
   "metadata": {},
   "outputs": [],
   "source": [
    "from nmc_met_io.retrieve_micaps_server import get_station_data, get_latest_initTime,get_file_list"
   ]
  },
  {
   "cell_type": "code",
   "execution_count": 20,
   "metadata": {},
   "outputs": [],
   "source": [
    "data = get_station_data(\"SURFACE/PLOT_10MIN\")"
   ]
  },
  {
   "cell_type": "code",
   "execution_count": 21,
   "metadata": {},
   "outputs": [
    {
     "data": {
      "text/html": [
       "<div>\n",
       "<style scoped>\n",
       "    .dataframe tbody tr th:only-of-type {\n",
       "        vertical-align: middle;\n",
       "    }\n",
       "\n",
       "    .dataframe tbody tr th {\n",
       "        vertical-align: top;\n",
       "    }\n",
       "\n",
       "    .dataframe thead th {\n",
       "        text-align: right;\n",
       "    }\n",
       "</style>\n",
       "<table border=\"1\" class=\"dataframe\">\n",
       "  <thead>\n",
       "    <tr style=\"text-align: right;\">\n",
       "      <th></th>\n",
       "      <th>ID</th>\n",
       "      <th>lon</th>\n",
       "      <th>lat</th>\n",
       "      <th>Alt</th>\n",
       "      <th>Relative_humidity</th>\n",
       "      <th>806</th>\n",
       "      <th>Wind_angle_2m_avg</th>\n",
       "      <th>210</th>\n",
       "      <th>Wind_speed_2m_avg</th>\n",
       "      <th>212</th>\n",
       "      <th>...</th>\n",
       "      <th>602</th>\n",
       "      <th>Pressure</th>\n",
       "      <th>414</th>\n",
       "      <th>Rain</th>\n",
       "      <th>1002</th>\n",
       "      <th>Vis_1min</th>\n",
       "      <th>1202</th>\n",
       "      <th>Dewpoint</th>\n",
       "      <th>802</th>\n",
       "      <th>time</th>\n",
       "    </tr>\n",
       "  </thead>\n",
       "  <tbody>\n",
       "    <tr>\n",
       "      <td>0</td>\n",
       "      <td>786444</td>\n",
       "      <td>107.009697</td>\n",
       "      <td>23.463900</td>\n",
       "      <td>350.000000</td>\n",
       "      <td>66.0</td>\n",
       "      <td>False</td>\n",
       "      <td>348.0</td>\n",
       "      <td>False</td>\n",
       "      <td>3.4</td>\n",
       "      <td>False</td>\n",
       "      <td>...</td>\n",
       "      <td>False</td>\n",
       "      <td>997.400024</td>\n",
       "      <td>False</td>\n",
       "      <td>NaN</td>\n",
       "      <td>NaN</td>\n",
       "      <td>NaN</td>\n",
       "      <td>NaN</td>\n",
       "      <td>NaN</td>\n",
       "      <td>NaN</td>\n",
       "      <td>2020-02-15 17:50:00</td>\n",
       "    </tr>\n",
       "    <tr>\n",
       "      <td>1</td>\n",
       "      <td>720906</td>\n",
       "      <td>126.753098</td>\n",
       "      <td>45.772800</td>\n",
       "      <td>132.000000</td>\n",
       "      <td>66.0</td>\n",
       "      <td>False</td>\n",
       "      <td>15.0</td>\n",
       "      <td>False</td>\n",
       "      <td>1.5</td>\n",
       "      <td>False</td>\n",
       "      <td>...</td>\n",
       "      <td>False</td>\n",
       "      <td>1012.000000</td>\n",
       "      <td>False</td>\n",
       "      <td>NaN</td>\n",
       "      <td>NaN</td>\n",
       "      <td>NaN</td>\n",
       "      <td>NaN</td>\n",
       "      <td>NaN</td>\n",
       "      <td>NaN</td>\n",
       "      <td>2020-02-15 17:50:00</td>\n",
       "    </tr>\n",
       "    <tr>\n",
       "      <td>2</td>\n",
       "      <td>720905</td>\n",
       "      <td>126.542198</td>\n",
       "      <td>45.735600</td>\n",
       "      <td>120.000000</td>\n",
       "      <td>58.0</td>\n",
       "      <td>False</td>\n",
       "      <td>173.0</td>\n",
       "      <td>False</td>\n",
       "      <td>0.6</td>\n",
       "      <td>False</td>\n",
       "      <td>...</td>\n",
       "      <td>False</td>\n",
       "      <td>1012.500000</td>\n",
       "      <td>False</td>\n",
       "      <td>NaN</td>\n",
       "      <td>NaN</td>\n",
       "      <td>NaN</td>\n",
       "      <td>NaN</td>\n",
       "      <td>NaN</td>\n",
       "      <td>NaN</td>\n",
       "      <td>2020-02-15 17:50:00</td>\n",
       "    </tr>\n",
       "    <tr>\n",
       "      <td>3</td>\n",
       "      <td>720911</td>\n",
       "      <td>126.571098</td>\n",
       "      <td>46.762798</td>\n",
       "      <td>123.000000</td>\n",
       "      <td>NaN</td>\n",
       "      <td>NaN</td>\n",
       "      <td>NaN</td>\n",
       "      <td>NaN</td>\n",
       "      <td>NaN</td>\n",
       "      <td>NaN</td>\n",
       "      <td>...</td>\n",
       "      <td>False</td>\n",
       "      <td>NaN</td>\n",
       "      <td>NaN</td>\n",
       "      <td>NaN</td>\n",
       "      <td>NaN</td>\n",
       "      <td>NaN</td>\n",
       "      <td>NaN</td>\n",
       "      <td>NaN</td>\n",
       "      <td>NaN</td>\n",
       "      <td>2020-02-15 17:50:00</td>\n",
       "    </tr>\n",
       "    <tr>\n",
       "      <td>4</td>\n",
       "      <td>720903</td>\n",
       "      <td>126.631699</td>\n",
       "      <td>45.745800</td>\n",
       "      <td>121.000000</td>\n",
       "      <td>NaN</td>\n",
       "      <td>NaN</td>\n",
       "      <td>137.0</td>\n",
       "      <td>False</td>\n",
       "      <td>1.4</td>\n",
       "      <td>False</td>\n",
       "      <td>...</td>\n",
       "      <td>False</td>\n",
       "      <td>NaN</td>\n",
       "      <td>NaN</td>\n",
       "      <td>NaN</td>\n",
       "      <td>NaN</td>\n",
       "      <td>NaN</td>\n",
       "      <td>NaN</td>\n",
       "      <td>NaN</td>\n",
       "      <td>NaN</td>\n",
       "      <td>2020-02-15 17:50:00</td>\n",
       "    </tr>\n",
       "    <tr>\n",
       "      <td>...</td>\n",
       "      <td>...</td>\n",
       "      <td>...</td>\n",
       "      <td>...</td>\n",
       "      <td>...</td>\n",
       "      <td>...</td>\n",
       "      <td>...</td>\n",
       "      <td>...</td>\n",
       "      <td>...</td>\n",
       "      <td>...</td>\n",
       "      <td>...</td>\n",
       "      <td>...</td>\n",
       "      <td>...</td>\n",
       "      <td>...</td>\n",
       "      <td>...</td>\n",
       "      <td>...</td>\n",
       "      <td>...</td>\n",
       "      <td>...</td>\n",
       "      <td>...</td>\n",
       "      <td>...</td>\n",
       "      <td>...</td>\n",
       "      <td>...</td>\n",
       "    </tr>\n",
       "    <tr>\n",
       "      <td>45257</td>\n",
       "      <td>720891</td>\n",
       "      <td>127.913597</td>\n",
       "      <td>46.008900</td>\n",
       "      <td>140.500000</td>\n",
       "      <td>NaN</td>\n",
       "      <td>NaN</td>\n",
       "      <td>348.0</td>\n",
       "      <td>False</td>\n",
       "      <td>0.0</td>\n",
       "      <td>False</td>\n",
       "      <td>...</td>\n",
       "      <td>False</td>\n",
       "      <td>NaN</td>\n",
       "      <td>NaN</td>\n",
       "      <td>NaN</td>\n",
       "      <td>NaN</td>\n",
       "      <td>NaN</td>\n",
       "      <td>NaN</td>\n",
       "      <td>NaN</td>\n",
       "      <td>NaN</td>\n",
       "      <td>2020-02-15 17:50:00</td>\n",
       "    </tr>\n",
       "    <tr>\n",
       "      <td>45258</td>\n",
       "      <td>786424</td>\n",
       "      <td>107.125298</td>\n",
       "      <td>23.325001</td>\n",
       "      <td>285.000000</td>\n",
       "      <td>65.0</td>\n",
       "      <td>False</td>\n",
       "      <td>43.0</td>\n",
       "      <td>False</td>\n",
       "      <td>3.4</td>\n",
       "      <td>False</td>\n",
       "      <td>...</td>\n",
       "      <td>False</td>\n",
       "      <td>977.799988</td>\n",
       "      <td>True</td>\n",
       "      <td>NaN</td>\n",
       "      <td>NaN</td>\n",
       "      <td>NaN</td>\n",
       "      <td>NaN</td>\n",
       "      <td>NaN</td>\n",
       "      <td>NaN</td>\n",
       "      <td>2020-02-15 17:50:00</td>\n",
       "    </tr>\n",
       "    <tr>\n",
       "      <td>45259</td>\n",
       "      <td>720894</td>\n",
       "      <td>127.801903</td>\n",
       "      <td>46.240299</td>\n",
       "      <td>140.000000</td>\n",
       "      <td>63.0</td>\n",
       "      <td>False</td>\n",
       "      <td>215.0</td>\n",
       "      <td>False</td>\n",
       "      <td>1.6</td>\n",
       "      <td>False</td>\n",
       "      <td>...</td>\n",
       "      <td>False</td>\n",
       "      <td>1010.400024</td>\n",
       "      <td>False</td>\n",
       "      <td>NaN</td>\n",
       "      <td>NaN</td>\n",
       "      <td>NaN</td>\n",
       "      <td>NaN</td>\n",
       "      <td>NaN</td>\n",
       "      <td>NaN</td>\n",
       "      <td>2020-02-15 17:50:00</td>\n",
       "    </tr>\n",
       "    <tr>\n",
       "      <td>45260</td>\n",
       "      <td>720895</td>\n",
       "      <td>127.813599</td>\n",
       "      <td>46.318600</td>\n",
       "      <td>136.300003</td>\n",
       "      <td>NaN</td>\n",
       "      <td>NaN</td>\n",
       "      <td>297.0</td>\n",
       "      <td>False</td>\n",
       "      <td>4.0</td>\n",
       "      <td>False</td>\n",
       "      <td>...</td>\n",
       "      <td>False</td>\n",
       "      <td>NaN</td>\n",
       "      <td>NaN</td>\n",
       "      <td>NaN</td>\n",
       "      <td>NaN</td>\n",
       "      <td>NaN</td>\n",
       "      <td>NaN</td>\n",
       "      <td>NaN</td>\n",
       "      <td>NaN</td>\n",
       "      <td>2020-02-15 17:50:00</td>\n",
       "    </tr>\n",
       "    <tr>\n",
       "      <td>45261</td>\n",
       "      <td>720893</td>\n",
       "      <td>127.889198</td>\n",
       "      <td>46.083099</td>\n",
       "      <td>137.800003</td>\n",
       "      <td>59.0</td>\n",
       "      <td>False</td>\n",
       "      <td>269.0</td>\n",
       "      <td>False</td>\n",
       "      <td>2.4</td>\n",
       "      <td>False</td>\n",
       "      <td>...</td>\n",
       "      <td>False</td>\n",
       "      <td>1010.299988</td>\n",
       "      <td>False</td>\n",
       "      <td>NaN</td>\n",
       "      <td>NaN</td>\n",
       "      <td>NaN</td>\n",
       "      <td>NaN</td>\n",
       "      <td>NaN</td>\n",
       "      <td>NaN</td>\n",
       "      <td>2020-02-15 17:50:00</td>\n",
       "    </tr>\n",
       "  </tbody>\n",
       "</table>\n",
       "<p>45262 rows × 21 columns</p>\n",
       "</div>"
      ],
      "text/plain": [
       "           ID         lon        lat         Alt  Relative_humidity    806  \\\n",
       "0      786444  107.009697  23.463900  350.000000               66.0  False   \n",
       "1      720906  126.753098  45.772800  132.000000               66.0  False   \n",
       "2      720905  126.542198  45.735600  120.000000               58.0  False   \n",
       "3      720911  126.571098  46.762798  123.000000                NaN    NaN   \n",
       "4      720903  126.631699  45.745800  121.000000                NaN    NaN   \n",
       "...       ...         ...        ...         ...                ...    ...   \n",
       "45257  720891  127.913597  46.008900  140.500000                NaN    NaN   \n",
       "45258  786424  107.125298  23.325001  285.000000               65.0  False   \n",
       "45259  720894  127.801903  46.240299  140.000000               63.0  False   \n",
       "45260  720895  127.813599  46.318600  136.300003                NaN    NaN   \n",
       "45261  720893  127.889198  46.083099  137.800003               59.0  False   \n",
       "\n",
       "       Wind_angle_2m_avg    210  Wind_speed_2m_avg    212  ...    602  \\\n",
       "0                  348.0  False                3.4  False  ...  False   \n",
       "1                   15.0  False                1.5  False  ...  False   \n",
       "2                  173.0  False                0.6  False  ...  False   \n",
       "3                    NaN    NaN                NaN    NaN  ...  False   \n",
       "4                  137.0  False                1.4  False  ...  False   \n",
       "...                  ...    ...                ...    ...  ...    ...   \n",
       "45257              348.0  False                0.0  False  ...  False   \n",
       "45258               43.0  False                3.4  False  ...  False   \n",
       "45259              215.0  False                1.6  False  ...  False   \n",
       "45260              297.0  False                4.0  False  ...  False   \n",
       "45261              269.0  False                2.4  False  ...  False   \n",
       "\n",
       "          Pressure    414 Rain  1002 Vis_1min  1202 Dewpoint  802  \\\n",
       "0       997.400024  False  NaN   NaN      NaN   NaN      NaN  NaN   \n",
       "1      1012.000000  False  NaN   NaN      NaN   NaN      NaN  NaN   \n",
       "2      1012.500000  False  NaN   NaN      NaN   NaN      NaN  NaN   \n",
       "3              NaN    NaN  NaN   NaN      NaN   NaN      NaN  NaN   \n",
       "4              NaN    NaN  NaN   NaN      NaN   NaN      NaN  NaN   \n",
       "...            ...    ...  ...   ...      ...   ...      ...  ...   \n",
       "45257          NaN    NaN  NaN   NaN      NaN   NaN      NaN  NaN   \n",
       "45258   977.799988   True  NaN   NaN      NaN   NaN      NaN  NaN   \n",
       "45259  1010.400024  False  NaN   NaN      NaN   NaN      NaN  NaN   \n",
       "45260          NaN    NaN  NaN   NaN      NaN   NaN      NaN  NaN   \n",
       "45261  1010.299988  False  NaN   NaN      NaN   NaN      NaN  NaN   \n",
       "\n",
       "                     time  \n",
       "0     2020-02-15 17:50:00  \n",
       "1     2020-02-15 17:50:00  \n",
       "2     2020-02-15 17:50:00  \n",
       "3     2020-02-15 17:50:00  \n",
       "4     2020-02-15 17:50:00  \n",
       "...                   ...  \n",
       "45257 2020-02-15 17:50:00  \n",
       "45258 2020-02-15 17:50:00  \n",
       "45259 2020-02-15 17:50:00  \n",
       "45260 2020-02-15 17:50:00  \n",
       "45261 2020-02-15 17:50:00  \n",
       "\n",
       "[45262 rows x 21 columns]"
      ]
     },
     "execution_count": 21,
     "metadata": {},
     "output_type": "execute_result"
    }
   ],
   "source": [
    "data"
   ]
  },
  {
   "cell_type": "code",
   "execution_count": 23,
   "metadata": {},
   "outputs": [],
   "source": [
    "initTime = get_latest_initTime(\"ECMWF_HR/TMP/850\")"
   ]
  },
  {
   "cell_type": "code",
   "execution_count": 30,
   "metadata": {},
   "outputs": [],
   "source": [
    "files = get_file_list(\"SURFACE/PLOT_10MIN\")"
   ]
  },
  {
   "cell_type": "code",
   "execution_count": 34,
   "metadata": {},
   "outputs": [],
   "source": [
    "files.sort(reverse=True)"
   ]
  },
  {
   "cell_type": "code",
   "execution_count": 32,
   "metadata": {},
   "outputs": [],
   "source": [
    "files.sort()"
   ]
  },
  {
   "cell_type": "code",
   "execution_count": 36,
   "metadata": {},
   "outputs": [
    {
     "data": {
      "text/plain": [
       "20"
      ]
     },
     "execution_count": 36,
     "metadata": {},
     "output_type": "execute_result"
    }
   ],
   "source": [
    "min(len(files), 20)"
   ]
  },
  {
   "cell_type": "code",
   "execution_count": 221,
   "metadata": {},
   "outputs": [],
   "source": [
    "import pandas as pd\n",
    "import numpy as np\n",
    "from nmc_met_io.retrieve_cimiss_server import cimiss_obs_by_time_range, cimiss_obs_convert_type, \\\n",
    "    cimiss_obs_by_time_and_id, cimiss_get_obs_latest_time,cimiss_obs_by_time, \\\n",
    "    cimiss_obs_by_time_range_and_id, cimiss_model_by_time, cimiss_model_by_times, \\\n",
    "    cimiss_obs_file_by_time_range, cimiss_obs_grid_by_time, cimiss_obs_grid_by_times, \\\n",
    "    cimiss_analysis_by_time, cimiss_analysis_by_times"
   ]
  },
  {
   "cell_type": "code",
   "execution_count": 70,
   "metadata": {},
   "outputs": [],
   "source": [
    "time_range = \"[20200212000000,20200214000000]\"\n",
    "data_code = \"SURF_CHN_MUL_DAY\"\n",
    "sta_levels = \"011,012,013\"\n",
    "elements = \"Station_Id_C,Station_Name,Datetime,Lat,Lon,PRE_Time_0808\"\n",
    "data = cimiss_obs_by_time_range(time_range, sta_levels=sta_levels,\n",
    "                                data_code=data_code, elements=elements)"
   ]
  },
  {
   "cell_type": "code",
   "execution_count": 85,
   "metadata": {},
   "outputs": [
    {
     "data": {
      "text/html": [
       "<div>\n",
       "<style scoped>\n",
       "    .dataframe tbody tr th:only-of-type {\n",
       "        vertical-align: middle;\n",
       "    }\n",
       "\n",
       "    .dataframe tbody tr th {\n",
       "        vertical-align: top;\n",
       "    }\n",
       "\n",
       "    .dataframe thead th {\n",
       "        text-align: right;\n",
       "    }\n",
       "</style>\n",
       "<table border=\"1\" class=\"dataframe\">\n",
       "  <thead>\n",
       "    <tr style=\"text-align: right;\">\n",
       "      <th></th>\n",
       "      <th>Datetime</th>\n",
       "    </tr>\n",
       "  </thead>\n",
       "  <tbody>\n",
       "    <tr>\n",
       "      <td>0</td>\n",
       "      <td>20200216020000</td>\n",
       "    </tr>\n",
       "  </tbody>\n",
       "</table>\n",
       "</div>"
      ],
      "text/plain": [
       "         Datetime\n",
       "0  20200216020000"
      ]
     },
     "execution_count": 85,
     "metadata": {},
     "output_type": "execute_result"
    }
   ],
   "source": [
    "time = cimiss_get_obs_latest_time(latestTime=24)\n",
    "time"
   ]
  },
  {
   "cell_type": "code",
   "execution_count": 91,
   "metadata": {},
   "outputs": [],
   "source": [
    "sta_levels = None\n",
    "params = sta_levels if sta_levels is not None else 3"
   ]
  },
  {
   "cell_type": "code",
   "execution_count": 122,
   "metadata": {},
   "outputs": [],
   "source": [
    "data = cimiss_obs_by_time_range_and_id(\"[20160801000000,20160802000000]\")"
   ]
  },
  {
   "cell_type": "code",
   "execution_count": 143,
   "metadata": {},
   "outputs": [],
   "source": [
    "data = cimiss_model_by_time(\"2020021512\", data_code=\"NAFP_FOR_FTM_HIGH_EC_ANEA\", fcst_level=850, fcst_ele='TEM', units=\"C\", scale_off=[1.0, -273.15])"
   ]
  },
  {
   "cell_type": "code",
   "execution_count": 148,
   "metadata": {},
   "outputs": [
    {
     "name": "stderr",
     "output_type": "stream",
     "text": [
      "NAFP_FOR_FTM_HIGH_EC_ANEA: 100%|██████████| 6/6 [00:01<00:00,  3.25it/s]\n"
     ]
    }
   ],
   "source": [
    "data = cimiss_model_by_times(\"2020021512\", valid_times=np.arange(0, 35, 6), data_code=\"NAFP_FOR_FTM_HIGH_EC_ANEA\", fcst_level=850, fcst_ele='TEM', units=\"C\", scale_off=[1.0, -273.15])"
   ]
  },
  {
   "cell_type": "code",
   "execution_count": 196,
   "metadata": {},
   "outputs": [
    {
     "name": "stderr",
     "output_type": "stream",
     "text": [
      "\n",
      "\n",
      "SURF_CMPA_FRT_5KM:   0%|          | 0/2 [00:00<?, ?it/s]\u001b[A\u001b[A\n",
      "\n",
      "SURF_CMPA_FRT_5KM:  50%|█████     | 1/2 [00:01<00:01,  1.11s/it]\u001b[A\u001b[A\n",
      "\n",
      "SURF_CMPA_FRT_5KM: 100%|██████████| 2/2 [00:02<00:00,  1.47s/it]\u001b[A\u001b[A\n"
     ]
    }
   ],
   "source": [
    "times = [\"20200208000000\", \"20200208010000\"]\n",
    "data_code = \"SURF_CMPA_FRT_5KM\"\n",
    "data = cimiss_obs_grid_by_times(times, data_code=data_code, fcst_ele=\"PRE\")"
   ]
  },
  {
   "cell_type": "code",
   "execution_count": 197,
   "metadata": {},
   "outputs": [
    {
     "data": {
      "text/html": [
       "<pre>&lt;xarray.DataArray &#x27;PRE&#x27; (time: 2, lat: 1201, lon: 1401)&gt;\n",
       "array([[[nan, nan, nan, ..., nan, nan, nan],\n",
       "        [nan,  0.,  0., ...,  0.,  0., nan],\n",
       "        [nan,  0.,  0., ...,  0.,  0., nan],\n",
       "        ...,\n",
       "        [nan, nan, nan, ..., nan, nan, nan],\n",
       "        [nan, nan, nan, ..., nan, nan, nan],\n",
       "        [nan, nan, nan, ..., nan, nan, nan]],\n",
       "\n",
       "       [[nan, nan, nan, ..., nan, nan, nan],\n",
       "        [nan,  0.,  0., ...,  0.,  0., nan],\n",
       "        [nan,  0.,  0., ...,  0.,  0., nan],\n",
       "        ...,\n",
       "        [nan, nan, nan, ..., nan, nan, nan],\n",
       "        [nan, nan, nan, ..., nan, nan, nan],\n",
       "        [nan, nan, nan, ..., nan, nan, nan]]], dtype=float32)\n",
       "Coordinates:\n",
       "  * lon      (lon) float64 70.0 70.05 70.1 70.15 ... 139.9 139.9 140.0 140.0\n",
       "  * lat      (lat) float64 0.0 0.05 0.1 0.15 0.2 ... 59.8 59.85 59.9 59.95 60.0\n",
       "  * time     (time) datetime64[ns] 2020-02-08 2020-02-08T01:00:00\n",
       "Attributes:\n",
       "    long_name:  降水量(整个大气层)\n",
       "    units:      -</pre>"
      ],
      "text/plain": [
       "<xarray.DataArray 'PRE' (time: 2, lat: 1201, lon: 1401)>\n",
       "array([[[nan, nan, nan, ..., nan, nan, nan],\n",
       "        [nan,  0.,  0., ...,  0.,  0., nan],\n",
       "        [nan,  0.,  0., ...,  0.,  0., nan],\n",
       "        ...,\n",
       "        [nan, nan, nan, ..., nan, nan, nan],\n",
       "        [nan, nan, nan, ..., nan, nan, nan],\n",
       "        [nan, nan, nan, ..., nan, nan, nan]],\n",
       "\n",
       "       [[nan, nan, nan, ..., nan, nan, nan],\n",
       "        [nan,  0.,  0., ...,  0.,  0., nan],\n",
       "        [nan,  0.,  0., ...,  0.,  0., nan],\n",
       "        ...,\n",
       "        [nan, nan, nan, ..., nan, nan, nan],\n",
       "        [nan, nan, nan, ..., nan, nan, nan],\n",
       "        [nan, nan, nan, ..., nan, nan, nan]]], dtype=float32)\n",
       "Coordinates:\n",
       "  * lon      (lon) float64 70.0 70.05 70.1 70.15 ... 139.9 139.9 140.0 140.0\n",
       "  * lat      (lat) float64 0.0 0.05 0.1 0.15 0.2 ... 59.8 59.85 59.9 59.95 60.0\n",
       "  * time     (time) datetime64[ns] 2020-02-08 2020-02-08T01:00:00\n",
       "Attributes:\n",
       "    long_name:  降水量(整个大气层)\n",
       "    units:      -"
      ]
     },
     "execution_count": 197,
     "metadata": {},
     "output_type": "execute_result"
    }
   ],
   "source": [
    "data.PRE"
   ]
  },
  {
   "cell_type": "code",
   "execution_count": 191,
   "metadata": {},
   "outputs": [],
   "source": [
    "time_str = \"20200106130000\"\n",
    "data_code = \"SURF_CMPA_FRT_5KM\"\n",
    "data = cimiss_obs_grid_by_time(time_str, data_code=data_code, fcst_ele=\"PRE\")"
   ]
  },
  {
   "cell_type": "code",
   "execution_count": 192,
   "metadata": {},
   "outputs": [
    {
     "data": {
      "text/html": [
       "<pre>&lt;xarray.Dataset&gt;\n",
       "Dimensions:  (lat: 1201, lon: 1401, time: 1)\n",
       "Coordinates:\n",
       "  * time     (time) datetime64[ns] 2020-01-06T13:00:00\n",
       "  * lat      (lat) float64 0.0 0.05 0.1 0.15 0.2 ... 59.8 59.85 59.9 59.95 60.0\n",
       "  * lon      (lon) float64 70.0 70.05 70.1 70.15 ... 139.9 139.9 140.0 140.0\n",
       "Data variables:\n",
       "    PRE      (time, lat, lon) float32 nan nan nan nan nan ... nan nan nan nan\n",
       "Attributes:\n",
       "    Conventions:  CF-1.6\n",
       "    Origin:       CIMISS Server by MUSIC API</pre>"
      ],
      "text/plain": [
       "<xarray.Dataset>\n",
       "Dimensions:  (lat: 1201, lon: 1401, time: 1)\n",
       "Coordinates:\n",
       "  * time     (time) datetime64[ns] 2020-01-06T13:00:00\n",
       "  * lat      (lat) float64 0.0 0.05 0.1 0.15 0.2 ... 59.8 59.85 59.9 59.95 60.0\n",
       "  * lon      (lon) float64 70.0 70.05 70.1 70.15 ... 139.9 139.9 140.0 140.0\n",
       "Data variables:\n",
       "    PRE      (time, lat, lon) float32 nan nan nan nan nan ... nan nan nan nan\n",
       "Attributes:\n",
       "    Conventions:  CF-1.6\n",
       "    Origin:       CIMISS Server by MUSIC API"
      ]
     },
     "execution_count": 192,
     "metadata": {},
     "output_type": "execute_result"
    }
   ],
   "source": [
    "data"
   ]
  },
  {
   "cell_type": "code",
   "execution_count": 162,
   "metadata": {},
   "outputs": [
    {
     "data": {
      "text/plain": [
       "<matplotlib.collections.QuadMesh at 0x7fefef1af510>"
      ]
     },
     "execution_count": 162,
     "metadata": {},
     "output_type": "execute_result"
    },
    {
     "data": {
      "image/png": "[encoded data removed]",
      "text/plain": [
       "<Figure size 432x288 with 2 Axes>"
      ]
     },
     "metadata": {
      "needs_background": "light"
     },
     "output_type": "display_data"
    }
   ],
   "source": [
    "data.PRE.plot(vmin=0, vmax=10)"
   ]
  },
  {
   "cell_type": "code",
   "execution_count": 207,
   "metadata": {},
   "outputs": [],
   "source": [
    "data = cimiss_analysis_by_time(\"20200215120000\", data_code=\"NAFP_CLDAS2.0_RT_GRB\", fcst_level=2, fcst_ele='TEF2', units=\"C\", scale_off=[1.0, -273.15])"
   ]
  },
  {
   "cell_type": "code",
   "execution_count": 211,
   "metadata": {},
   "outputs": [
    {
     "name": "stderr",
     "output_type": "stream",
     "text": [
      "\n",
      "\n",
      "NAFP_CLDAS2.0_RT_GRB:   0%|          | 0/2 [00:00<?, ?it/s]\u001b[A\u001b[A\n",
      "\n",
      "NAFP_CLDAS2.0_RT_GRB:  50%|█████     | 1/2 [00:03<00:03,  3.36s/it]\u001b[A\u001b[A\n",
      "\n",
      "NAFP_CLDAS2.0_RT_GRB: 100%|██████████| 2/2 [00:06<00:00,  3.22s/it]\u001b[A\u001b[A\n"
     ]
    }
   ],
   "source": [
    "times = [\"20200208000000\", \"20200209000000\"]\n",
    "data_code = \"NAFP_CLDAS2.0_RT_GRB\"\n",
    "data = cimiss_analysis_by_times(times, data_code=data_code)"
   ]
  },
  {
   "cell_type": "code",
   "execution_count": 214,
   "metadata": {},
   "outputs": [
    {
     "data": {
      "text/plain": [
       "'[18, 78, 54, 24]'"
      ]
     },
     "execution_count": 214,
     "metadata": {},
     "output_type": "execute_result"
    }
   ],
   "source": [
    "limit = [18, 78, 54, 24]\n",
    "str(limit)"
   ]
  },
  {
   "cell_type": "code",
   "execution_count": 219,
   "metadata": {},
   "outputs": [
    {
     "data": {
      "text/plain": [
       "'C:/daikan/123'"
      ]
     },
     "execution_count": 219,
     "metadata": {},
     "output_type": "execute_result"
    }
   ],
   "source": [
    "import os\n",
    "os.path.join(\"C:\", \"daikan\", \"\", \"123\")"
   ]
  },
  {
   "cell_type": "code",
   "execution_count": 224,
   "metadata": {},
   "outputs": [],
   "source": [
    "data = cimiss_model_by_time(\"2020021512\", data_code=\"NAFP_FOR_FTM_HIGH_EC_ANEA\", \n",
    "                            fcst_level=850, fcst_ele='TEM', units=\"C\", scale_off=[1.0, -273.15])"
   ]
  },
  {
   "cell_type": "code",
   "execution_count": 225,
   "metadata": {},
   "outputs": [
    {
     "data": {
      "text/html": [
       "<pre>&lt;xarray.Dataset&gt;\n",
       "Dimensions:                  (lat: 281, level: 1, lon: 361, time: 1)\n",
       "Coordinates:\n",
       "  * time                     (time) datetime64[ns] 2020-02-15T12:00:00\n",
       "  * level                    (level) int64 850\n",
       "  * lat                      (lat) float64 60.0 59.75 59.5 ... -9.5 -9.75 -10.0\n",
       "  * lon                      (lon) float64 60.0 60.25 60.5 ... 149.5 149.8 150.0\n",
       "    forecast_reference_time  datetime64[ns] 2020-02-15T12:00:00\n",
       "    forecast_period          (time) float64 0.0\n",
       "Data variables:\n",
       "    TEM                      (time, level, lat, lon) float32 -11.893372 ... 18.716003\n",
       "Attributes:\n",
       "    Conventions:  CF-1.6\n",
       "    Origin:       CIMISS Server by MUSIC API</pre>"
      ],
      "text/plain": [
       "<xarray.Dataset>\n",
       "Dimensions:                  (lat: 281, level: 1, lon: 361, time: 1)\n",
       "Coordinates:\n",
       "  * time                     (time) datetime64[ns] 2020-02-15T12:00:00\n",
       "  * level                    (level) int64 850\n",
       "  * lat                      (lat) float64 60.0 59.75 59.5 ... -9.5 -9.75 -10.0\n",
       "  * lon                      (lon) float64 60.0 60.25 60.5 ... 149.5 149.8 150.0\n",
       "    forecast_reference_time  datetime64[ns] 2020-02-15T12:00:00\n",
       "    forecast_period          (time) float64 0.0\n",
       "Data variables:\n",
       "    TEM                      (time, level, lat, lon) float32 -11.893372 ... 18.716003\n",
       "Attributes:\n",
       "    Conventions:  CF-1.6\n",
       "    Origin:       CIMISS Server by MUSIC API"
      ]
     },
     "execution_count": 225,
     "metadata": {},
     "output_type": "execute_result"
    }
   ],
   "source": [
    "data"
   ]
  }
 ],
 "metadata": {
  "kernelspec": {
   "display_name": "Python 3",
   "language": "python",
   "name": "python3"
  },
  "language_info": {
   "codemirror_mode": {
    "name": "ipython",
    "version": 3
   },
   "file_extension": ".py",
   "mimetype": "text/x-python",
   "name": "python",
   "nbconvert_exporter": "python",
   "pygments_lexer": "ipython3",
   "version": "3.7.4"
  }
 },
 "nbformat": 4,
 "nbformat_minor": 4
}
